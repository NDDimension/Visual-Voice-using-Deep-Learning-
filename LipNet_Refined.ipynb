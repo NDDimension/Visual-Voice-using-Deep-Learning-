{
  "cells": [
    {
      "cell_type": "markdown",
      "id": "a3573a47-3689-4668-b62f-5c8451b2b4e9",
      "metadata": {
        "id": "a3573a47-3689-4668-b62f-5c8451b2b4e9",
        "tags": []
      },
      "source": [
        "## Install and Import Dependencies"
      ]
    },
    {
      "cell_type": "code",
      "execution_count": 1,
      "id": "02f907ea-f669-46c7-adcf-7f257e663448",
      "metadata": {
        "colab": {
          "base_uri": "https://localhost:8080/",
          "height": 1000
        },
        "id": "02f907ea-f669-46c7-adcf-7f257e663448",
        "outputId": "0e5245cd-36b2-4b70-82ab-6635afd5c21c",
        "tags": []
      },
      "outputs": [
        {
          "name": "stdout",
          "output_type": "stream",
          "text": [
            "Requirement already satisfied: opencv-python==4.6.0.66 in d:\\projects_github\\lip reading using deep learning networks\\lip\\lib\\site-packages (4.6.0.66)\n",
            "Requirement already satisfied: matplotlib==3.6.2 in d:\\projects_github\\lip reading using deep learning networks\\lip\\lib\\site-packages (3.6.2)\n",
            "Requirement already satisfied: imageio==2.23.0 in d:\\projects_github\\lip reading using deep learning networks\\lip\\lib\\site-packages (2.23.0)\n",
            "Requirement already satisfied: gdown==4.6.0 in d:\\projects_github\\lip reading using deep learning networks\\lip\\lib\\site-packages (4.6.0)\n",
            "Requirement already satisfied: tensorflow==2.15.0 in d:\\projects_github\\lip reading using deep learning networks\\lip\\lib\\site-packages (2.15.0)\n",
            "Requirement already satisfied: numpy>=1.21.2 in d:\\projects_github\\lip reading using deep learning networks\\lip\\lib\\site-packages (from opencv-python==4.6.0.66) (1.26.4)\n",
            "Requirement already satisfied: contourpy>=1.0.1 in d:\\projects_github\\lip reading using deep learning networks\\lip\\lib\\site-packages (from matplotlib==3.6.2) (1.3.2)\n",
            "Requirement already satisfied: cycler>=0.10 in d:\\projects_github\\lip reading using deep learning networks\\lip\\lib\\site-packages (from matplotlib==3.6.2) (0.12.1)\n",
            "Requirement already satisfied: fonttools>=4.22.0 in d:\\projects_github\\lip reading using deep learning networks\\lip\\lib\\site-packages (from matplotlib==3.6.2) (4.58.5)\n",
            "Requirement already satisfied: kiwisolver>=1.0.1 in d:\\projects_github\\lip reading using deep learning networks\\lip\\lib\\site-packages (from matplotlib==3.6.2) (1.4.8)\n",
            "Requirement already satisfied: packaging>=20.0 in d:\\projects_github\\lip reading using deep learning networks\\lip\\lib\\site-packages (from matplotlib==3.6.2) (25.0)\n",
            "Requirement already satisfied: pillow>=6.2.0 in d:\\projects_github\\lip reading using deep learning networks\\lip\\lib\\site-packages (from matplotlib==3.6.2) (11.3.0)\n",
            "Requirement already satisfied: pyparsing>=2.2.1 in d:\\projects_github\\lip reading using deep learning networks\\lip\\lib\\site-packages (from matplotlib==3.6.2) (3.2.3)\n",
            "Requirement already satisfied: python-dateutil>=2.7 in d:\\projects_github\\lip reading using deep learning networks\\lip\\lib\\site-packages (from matplotlib==3.6.2) (2.9.0.post0)\n",
            "Requirement already satisfied: filelock in d:\\projects_github\\lip reading using deep learning networks\\lip\\lib\\site-packages (from gdown==4.6.0) (3.18.0)\n",
            "Requirement already satisfied: requests[socks] in d:\\projects_github\\lip reading using deep learning networks\\lip\\lib\\site-packages (from gdown==4.6.0) (2.32.4)\n",
            "Requirement already satisfied: six in d:\\projects_github\\lip reading using deep learning networks\\lip\\lib\\site-packages (from gdown==4.6.0) (1.17.0)\n",
            "Requirement already satisfied: tqdm in d:\\projects_github\\lip reading using deep learning networks\\lip\\lib\\site-packages (from gdown==4.6.0) (4.67.1)\n",
            "Requirement already satisfied: beautifulsoup4 in d:\\projects_github\\lip reading using deep learning networks\\lip\\lib\\site-packages (from gdown==4.6.0) (4.13.4)\n",
            "Requirement already satisfied: tensorflow-intel==2.15.0 in d:\\projects_github\\lip reading using deep learning networks\\lip\\lib\\site-packages (from tensorflow==2.15.0) (2.15.0)\n",
            "Requirement already satisfied: absl-py>=1.0.0 in d:\\projects_github\\lip reading using deep learning networks\\lip\\lib\\site-packages (from tensorflow-intel==2.15.0->tensorflow==2.15.0) (2.3.1)\n",
            "Requirement already satisfied: astunparse>=1.6.0 in d:\\projects_github\\lip reading using deep learning networks\\lip\\lib\\site-packages (from tensorflow-intel==2.15.0->tensorflow==2.15.0) (1.6.3)\n",
            "Requirement already satisfied: flatbuffers>=23.5.26 in d:\\projects_github\\lip reading using deep learning networks\\lip\\lib\\site-packages (from tensorflow-intel==2.15.0->tensorflow==2.15.0) (25.2.10)\n",
            "Requirement already satisfied: gast!=0.5.0,!=0.5.1,!=0.5.2,>=0.2.1 in d:\\projects_github\\lip reading using deep learning networks\\lip\\lib\\site-packages (from tensorflow-intel==2.15.0->tensorflow==2.15.0) (0.6.0)\n",
            "Requirement already satisfied: google-pasta>=0.1.1 in d:\\projects_github\\lip reading using deep learning networks\\lip\\lib\\site-packages (from tensorflow-intel==2.15.0->tensorflow==2.15.0) (0.2.0)\n",
            "Requirement already satisfied: h5py>=2.9.0 in d:\\projects_github\\lip reading using deep learning networks\\lip\\lib\\site-packages (from tensorflow-intel==2.15.0->tensorflow==2.15.0) (3.14.0)\n",
            "Requirement already satisfied: libclang>=13.0.0 in d:\\projects_github\\lip reading using deep learning networks\\lip\\lib\\site-packages (from tensorflow-intel==2.15.0->tensorflow==2.15.0) (18.1.1)\n",
            "Requirement already satisfied: ml-dtypes~=0.2.0 in d:\\projects_github\\lip reading using deep learning networks\\lip\\lib\\site-packages (from tensorflow-intel==2.15.0->tensorflow==2.15.0) (0.2.0)\n",
            "Requirement already satisfied: opt-einsum>=2.3.2 in d:\\projects_github\\lip reading using deep learning networks\\lip\\lib\\site-packages (from tensorflow-intel==2.15.0->tensorflow==2.15.0) (3.4.0)\n",
            "Requirement already satisfied: protobuf!=4.21.0,!=4.21.1,!=4.21.2,!=4.21.3,!=4.21.4,!=4.21.5,<5.0.0dev,>=3.20.3 in d:\\projects_github\\lip reading using deep learning networks\\lip\\lib\\site-packages (from tensorflow-intel==2.15.0->tensorflow==2.15.0) (4.25.8)\n",
            "Requirement already satisfied: setuptools in d:\\projects_github\\lip reading using deep learning networks\\lip\\lib\\site-packages (from tensorflow-intel==2.15.0->tensorflow==2.15.0) (65.5.0)\n",
            "Requirement already satisfied: termcolor>=1.1.0 in d:\\projects_github\\lip reading using deep learning networks\\lip\\lib\\site-packages (from tensorflow-intel==2.15.0->tensorflow==2.15.0) (3.1.0)\n",
            "Requirement already satisfied: typing-extensions>=3.6.6 in d:\\projects_github\\lip reading using deep learning networks\\lip\\lib\\site-packages (from tensorflow-intel==2.15.0->tensorflow==2.15.0) (4.14.1)\n",
            "Requirement already satisfied: wrapt<1.15,>=1.11.0 in d:\\projects_github\\lip reading using deep learning networks\\lip\\lib\\site-packages (from tensorflow-intel==2.15.0->tensorflow==2.15.0) (1.14.1)\n",
            "Requirement already satisfied: tensorflow-io-gcs-filesystem>=0.23.1 in d:\\projects_github\\lip reading using deep learning networks\\lip\\lib\\site-packages (from tensorflow-intel==2.15.0->tensorflow==2.15.0) (0.31.0)\n",
            "Requirement already satisfied: grpcio<2.0,>=1.24.3 in d:\\projects_github\\lip reading using deep learning networks\\lip\\lib\\site-packages (from tensorflow-intel==2.15.0->tensorflow==2.15.0) (1.73.1)\n",
            "Requirement already satisfied: tensorboard<2.16,>=2.15 in d:\\projects_github\\lip reading using deep learning networks\\lip\\lib\\site-packages (from tensorflow-intel==2.15.0->tensorflow==2.15.0) (2.15.2)\n",
            "Requirement already satisfied: tensorflow-estimator<2.16,>=2.15.0 in d:\\projects_github\\lip reading using deep learning networks\\lip\\lib\\site-packages (from tensorflow-intel==2.15.0->tensorflow==2.15.0) (2.15.0)\n",
            "Requirement already satisfied: keras<2.16,>=2.15.0 in d:\\projects_github\\lip reading using deep learning networks\\lip\\lib\\site-packages (from tensorflow-intel==2.15.0->tensorflow==2.15.0) (2.15.0)\n",
            "Requirement already satisfied: soupsieve>1.2 in d:\\projects_github\\lip reading using deep learning networks\\lip\\lib\\site-packages (from beautifulsoup4->gdown==4.6.0) (2.7)\n",
            "Requirement already satisfied: charset_normalizer<4,>=2 in d:\\projects_github\\lip reading using deep learning networks\\lip\\lib\\site-packages (from requests[socks]->gdown==4.6.0) (3.4.2)\n",
            "Requirement already satisfied: idna<4,>=2.5 in d:\\projects_github\\lip reading using deep learning networks\\lip\\lib\\site-packages (from requests[socks]->gdown==4.6.0) (3.10)\n",
            "Requirement already satisfied: urllib3<3,>=1.21.1 in d:\\projects_github\\lip reading using deep learning networks\\lip\\lib\\site-packages (from requests[socks]->gdown==4.6.0) (2.5.0)\n",
            "Requirement already satisfied: certifi>=2017.4.17 in d:\\projects_github\\lip reading using deep learning networks\\lip\\lib\\site-packages (from requests[socks]->gdown==4.6.0) (2025.7.14)\n",
            "Requirement already satisfied: PySocks!=1.5.7,>=1.5.6 in d:\\projects_github\\lip reading using deep learning networks\\lip\\lib\\site-packages (from requests[socks]->gdown==4.6.0) (1.7.1)\n",
            "Requirement already satisfied: colorama in d:\\projects_github\\lip reading using deep learning networks\\lip\\lib\\site-packages (from tqdm->gdown==4.6.0) (0.4.6)\n",
            "Requirement already satisfied: wheel<1.0,>=0.23.0 in d:\\projects_github\\lip reading using deep learning networks\\lip\\lib\\site-packages (from astunparse>=1.6.0->tensorflow-intel==2.15.0->tensorflow==2.15.0) (0.45.1)\n",
            "Requirement already satisfied: google-auth<3,>=1.6.3 in d:\\projects_github\\lip reading using deep learning networks\\lip\\lib\\site-packages (from tensorboard<2.16,>=2.15->tensorflow-intel==2.15.0->tensorflow==2.15.0) (2.40.3)\n",
            "Requirement already satisfied: google-auth-oauthlib<2,>=0.5 in d:\\projects_github\\lip reading using deep learning networks\\lip\\lib\\site-packages (from tensorboard<2.16,>=2.15->tensorflow-intel==2.15.0->tensorflow==2.15.0) (1.2.2)\n",
            "Requirement already satisfied: markdown>=2.6.8 in d:\\projects_github\\lip reading using deep learning networks\\lip\\lib\\site-packages (from tensorboard<2.16,>=2.15->tensorflow-intel==2.15.0->tensorflow==2.15.0) (3.8.2)\n",
            "Requirement already satisfied: tensorboard-data-server<0.8.0,>=0.7.0 in d:\\projects_github\\lip reading using deep learning networks\\lip\\lib\\site-packages (from tensorboard<2.16,>=2.15->tensorflow-intel==2.15.0->tensorflow==2.15.0) (0.7.2)\n",
            "Requirement already satisfied: werkzeug>=1.0.1 in d:\\projects_github\\lip reading using deep learning networks\\lip\\lib\\site-packages (from tensorboard<2.16,>=2.15->tensorflow-intel==2.15.0->tensorflow==2.15.0) (3.1.3)\n",
            "Requirement already satisfied: cachetools<6.0,>=2.0.0 in d:\\projects_github\\lip reading using deep learning networks\\lip\\lib\\site-packages (from google-auth<3,>=1.6.3->tensorboard<2.16,>=2.15->tensorflow-intel==2.15.0->tensorflow==2.15.0) (5.5.2)\n",
            "Requirement already satisfied: pyasn1-modules>=0.2.1 in d:\\projects_github\\lip reading using deep learning networks\\lip\\lib\\site-packages (from google-auth<3,>=1.6.3->tensorboard<2.16,>=2.15->tensorflow-intel==2.15.0->tensorflow==2.15.0) (0.4.2)\n",
            "Requirement already satisfied: rsa<5,>=3.1.4 in d:\\projects_github\\lip reading using deep learning networks\\lip\\lib\\site-packages (from google-auth<3,>=1.6.3->tensorboard<2.16,>=2.15->tensorflow-intel==2.15.0->tensorflow==2.15.0) (4.9.1)\n",
            "Requirement already satisfied: requests-oauthlib>=0.7.0 in d:\\projects_github\\lip reading using deep learning networks\\lip\\lib\\site-packages (from google-auth-oauthlib<2,>=0.5->tensorboard<2.16,>=2.15->tensorflow-intel==2.15.0->tensorflow==2.15.0) (2.0.0)\n",
            "Requirement already satisfied: MarkupSafe>=2.1.1 in d:\\projects_github\\lip reading using deep learning networks\\lip\\lib\\site-packages (from werkzeug>=1.0.1->tensorboard<2.16,>=2.15->tensorflow-intel==2.15.0->tensorflow==2.15.0) (3.0.2)\n",
            "Requirement already satisfied: pyasn1<0.7.0,>=0.6.1 in d:\\projects_github\\lip reading using deep learning networks\\lip\\lib\\site-packages (from pyasn1-modules>=0.2.1->google-auth<3,>=1.6.3->tensorboard<2.16,>=2.15->tensorflow-intel==2.15.0->tensorflow==2.15.0) (0.6.1)\n",
            "Requirement already satisfied: oauthlib>=3.0.0 in d:\\projects_github\\lip reading using deep learning networks\\lip\\lib\\site-packages (from requests-oauthlib>=0.7.0->google-auth-oauthlib<2,>=0.5->tensorboard<2.16,>=2.15->tensorflow-intel==2.15.0->tensorflow==2.15.0) (3.3.1)\n"
          ]
        },
        {
          "name": "stderr",
          "output_type": "stream",
          "text": [
            "\n",
            "[notice] A new release of pip is available: 24.0 -> 25.1.1\n",
            "[notice] To update, run: python.exe -m pip install --upgrade pip\n"
          ]
        }
      ],
      "source": [
        "!pip install opencv-python==4.6.0.66 matplotlib==3.6.2 imageio==2.23.0 gdown==4.6.0 tensorflow==2.15.0"
      ]
    },
    {
      "cell_type": "code",
      "execution_count": 2,
      "id": "ddfbccbe-41ae-4c23-98b1-a13868e2b499",
      "metadata": {
        "id": "ddfbccbe-41ae-4c23-98b1-a13868e2b499",
        "scrolled": true,
        "tags": []
      },
      "outputs": [
        {
          "name": "stdout",
          "output_type": "stream",
          "text": [
            "Package                      Version\n",
            "---------------------------- -----------\n",
            "absl-py                      2.3.1\n",
            "altair                       5.5.0\n",
            "asttokens                    3.0.0\n",
            "astunparse                   1.6.3\n",
            "attrs                        25.3.0\n",
            "beautifulsoup4               4.13.4\n",
            "blinker                      1.9.0\n",
            "cachetools                   5.5.2\n",
            "certifi                      2025.7.14\n",
            "charset-normalizer           3.4.2\n",
            "click                        8.2.1\n",
            "colorama                     0.4.6\n",
            "comm                         0.2.2\n",
            "contourpy                    1.3.2\n",
            "cycler                       0.12.1\n",
            "debugpy                      1.8.15\n",
            "decorator                    5.2.1\n",
            "executing                    2.2.0\n",
            "filelock                     3.18.0\n",
            "flatbuffers                  25.2.10\n",
            "fonttools                    4.58.5\n",
            "gast                         0.6.0\n",
            "gdown                        4.6.0\n",
            "gitdb                        4.0.12\n",
            "GitPython                    3.1.44\n",
            "google-auth                  2.40.3\n",
            "google-auth-oauthlib         1.2.2\n",
            "google-pasta                 0.2.0\n",
            "grpcio                       1.73.1\n",
            "h5py                         3.14.0\n",
            "idna                         3.10\n",
            "imageio                      2.23.0\n",
            "ipykernel                    6.29.5\n",
            "ipython                      9.4.0\n",
            "ipython_pygments_lexers      1.1.1\n",
            "jedi                         0.19.2\n",
            "Jinja2                       3.1.6\n",
            "jsonschema                   4.24.0\n",
            "jsonschema-specifications    2025.4.1\n",
            "jupyter_client               8.6.3\n",
            "jupyter_core                 5.8.1\n",
            "keras                        2.15.0\n",
            "kiwisolver                   1.4.8\n",
            "libclang                     18.1.1\n",
            "Markdown                     3.8.2\n",
            "MarkupSafe                   3.0.2\n",
            "matplotlib                   3.6.2\n",
            "matplotlib-inline            0.1.7\n",
            "ml-dtypes                    0.2.0\n",
            "narwhals                     1.47.0\n",
            "nest-asyncio                 1.6.0\n",
            "numpy                        1.26.4\n",
            "oauthlib                     3.3.1\n",
            "opencv-python                4.6.0.66\n",
            "opt_einsum                   3.4.0\n",
            "packaging                    25.0\n",
            "pandas                       2.3.1\n",
            "parso                        0.8.4\n",
            "pillow                       11.3.0\n",
            "pip                          24.0\n",
            "platformdirs                 4.3.8\n",
            "prompt_toolkit               3.0.51\n",
            "protobuf                     4.25.8\n",
            "psutil                       7.0.0\n",
            "pure_eval                    0.2.3\n",
            "pyarrow                      20.0.0\n",
            "pyasn1                       0.6.1\n",
            "pyasn1_modules               0.4.2\n",
            "pydeck                       0.9.1\n",
            "Pygments                     2.19.2\n",
            "pyparsing                    3.2.3\n",
            "PySocks                      1.7.1\n",
            "python-dateutil              2.9.0.post0\n",
            "pytz                         2025.2\n",
            "pywin32                      311\n",
            "pyzmq                        27.0.0\n",
            "referencing                  0.36.2\n",
            "requests                     2.32.4\n",
            "requests-oauthlib            2.0.0\n",
            "rpds-py                      0.26.0\n",
            "rsa                          4.9.1\n",
            "setuptools                   65.5.0\n",
            "six                          1.17.0\n",
            "smmap                        5.0.2\n",
            "soupsieve                    2.7\n",
            "stack-data                   0.6.3\n",
            "streamlit                    1.46.1\n",
            "tenacity                     9.1.2\n",
            "tensorboard                  2.15.2\n",
            "tensorboard-data-server      0.7.2\n",
            "tensorflow                   2.15.0\n",
            "tensorflow-estimator         2.15.0\n",
            "tensorflow-intel             2.15.0\n",
            "tensorflow-io-gcs-filesystem 0.31.0\n",
            "termcolor                    3.1.0\n",
            "toml                         0.10.2\n",
            "tornado                      6.5.1\n",
            "tqdm                         4.67.1\n",
            "traitlets                    5.14.3\n",
            "typing_extensions            4.14.1\n",
            "tzdata                       2025.2\n",
            "urllib3                      2.5.0\n",
            "watchdog                     6.0.0\n",
            "wcwidth                      0.2.13\n",
            "Werkzeug                     3.1.3\n",
            "wheel                        0.45.1\n",
            "wrapt                        1.14.1\n"
          ]
        },
        {
          "name": "stderr",
          "output_type": "stream",
          "text": [
            "\n",
            "[notice] A new release of pip is available: 24.0 -> 25.1.1\n",
            "[notice] To update, run: python.exe -m pip install --upgrade pip\n"
          ]
        }
      ],
      "source": [
        "!pip list"
      ]
    },
    {
      "cell_type": "code",
      "execution_count": 3,
      "id": "qMqqANFsJgfX",
      "metadata": {
        "id": "qMqqANFsJgfX"
      },
      "outputs": [],
      "source": [
        "!pip freeze > requirements.txt"
      ]
    },
    {
      "cell_type": "code",
      "execution_count": null,
      "id": "b24af50c-20b8-409d-ad78-30a933fdd669",
      "metadata": {
        "id": "b24af50c-20b8-409d-ad78-30a933fdd669",
        "tags": []
      },
      "outputs": [],
      "source": [
        "import os\n",
        "import cv2\n",
        "import tensorflow as tf\n",
        "import numpy as np\n",
        "from typing import List\n",
        "from matplotlib import pyplot as plt\n",
        "import imageio"
      ]
    },
    {
      "cell_type": "code",
      "execution_count": null,
      "id": "1e3db0b0-e559-4ad6-91fd-e7414b7d75e6",
      "metadata": {
        "colab": {
          "base_uri": "https://localhost:8080/"
        },
        "id": "1e3db0b0-e559-4ad6-91fd-e7414b7d75e6",
        "outputId": "2b55c6e8-25d8-4207-cc77-b265d9288fd4"
      },
      "outputs": [
        {
          "data": {
            "text/plain": [
              "[]"
            ]
          },
          "execution_count": 3,
          "metadata": {},
          "output_type": "execute_result"
        }
      ],
      "source": [
        "tf.config.list_physical_devices('GPU')"
      ]
    },
    {
      "cell_type": "code",
      "execution_count": null,
      "id": "378d045a-3003-4f93-b7d2-a25a97774a68",
      "metadata": {
        "id": "378d045a-3003-4f93-b7d2-a25a97774a68",
        "tags": []
      },
      "outputs": [],
      "source": [
        "physical_devices = tf.config.list_physical_devices('GPU')\n",
        "try:\n",
        "    tf.config.experimental.set_memory_growth(physical_devices[0], True)\n",
        "except:\n",
        "    pass"
      ]
    },
    {
      "cell_type": "markdown",
      "id": "7a19e88e-c7b9-45c1-ae1e-f2109329c71b",
      "metadata": {
        "id": "7a19e88e-c7b9-45c1-ae1e-f2109329c71b",
        "tags": []
      },
      "source": [
        "## Build Data Loading Functions"
      ]
    },
    {
      "cell_type": "code",
      "execution_count": 5,
      "id": "8fb99c90-e05a-437f-839d-6e772f8c1dd5",
      "metadata": {
        "id": "8fb99c90-e05a-437f-839d-6e772f8c1dd5",
        "tags": []
      },
      "outputs": [],
      "source": [
        "import gdown"
      ]
    },
    {
      "cell_type": "code",
      "execution_count": 6,
      "id": "c019e4c6-2af3-4160-99ea-5c8cb009f1a7",
      "metadata": {
        "colab": {
          "base_uri": "https://localhost:8080/"
        },
        "id": "c019e4c6-2af3-4160-99ea-5c8cb009f1a7",
        "outputId": "e9ee9f15-a062-4106-f5ad-db3d61676432",
        "tags": []
      },
      "outputs": [
        {
          "name": "stderr",
          "output_type": "stream",
          "text": [
            "Downloading...\n",
            "From: https://drive.google.com/uc?id=1YlvpDLix3S-U8fd-gqRwPcWXAXm8JwjL\n",
            "To: /content/data.zip\n",
            "100%|██████████| 423M/423M [00:02<00:00, 166MB/s]\n"
          ]
        },
        {
          "data": {
            "text/plain": [
              "['data/',\n",
              " 'data/alignments/',\n",
              " 'data/alignments/s1/',\n",
              " 'data/alignments/s1/bbaf2n.align',\n",
              " 'data/alignments/s1/bbaf3s.align',\n",
              " 'data/alignments/s1/bbaf4p.align',\n",
              " 'data/alignments/s1/bbaf5a.align',\n",
              " 'data/alignments/s1/bbal6n.align',\n",
              " 'data/alignments/s1/bbal7s.align',\n",
              " 'data/alignments/s1/bbal8p.align',\n",
              " 'data/alignments/s1/bbal9a.align',\n",
              " 'data/alignments/s1/bbas1s.align',\n",
              " 'data/alignments/s1/bbas2p.align',\n",
              " 'data/alignments/s1/bbas3a.align',\n",
              " 'data/alignments/s1/bbaszn.align',\n",
              " 'data/alignments/s1/bbaz4n.align',\n",
              " 'data/alignments/s1/bbaz5s.align',\n",
              " 'data/alignments/s1/bbaz6p.align',\n",
              " 'data/alignments/s1/bbaz7a.align',\n",
              " 'data/alignments/s1/bbbf6n.align',\n",
              " 'data/alignments/s1/bbbf7s.align',\n",
              " 'data/alignments/s1/bbbf8p.align',\n",
              " 'data/alignments/s1/bbbf9a.align',\n",
              " 'data/alignments/s1/bbbm1s.align',\n",
              " 'data/alignments/s1/bbbm2p.align',\n",
              " 'data/alignments/s1/bbbm3a.align',\n",
              " 'data/alignments/s1/bbbmzn.align',\n",
              " 'data/alignments/s1/bbbs4n.align',\n",
              " 'data/alignments/s1/bbbs5s.align',\n",
              " 'data/alignments/s1/bbbs6p.align',\n",
              " 'data/alignments/s1/bbbs7a.align',\n",
              " 'data/alignments/s1/bbbz8n.align',\n",
              " 'data/alignments/s1/bbbz9s.align',\n",
              " 'data/alignments/s1/bbie8n.align',\n",
              " 'data/alignments/s1/bbie9s.align',\n",
              " 'data/alignments/s1/bbif1a.align',\n",
              " 'data/alignments/s1/bbifzp.align',\n",
              " 'data/alignments/s1/bbil2n.align',\n",
              " 'data/alignments/s1/bbil3s.align',\n",
              " 'data/alignments/s1/bbil4p.align',\n",
              " 'data/alignments/s1/bbil5a.align',\n",
              " 'data/alignments/s1/bbir6n.align',\n",
              " 'data/alignments/s1/bbir7s.align',\n",
              " 'data/alignments/s1/bbir8p.align',\n",
              " 'data/alignments/s1/bbir9a.align',\n",
              " 'data/alignments/s1/bbiz1s.align',\n",
              " 'data/alignments/s1/bbiz2p.align',\n",
              " 'data/alignments/s1/bbiz3a.align',\n",
              " 'data/alignments/s1/bbizzn.align',\n",
              " 'data/alignments/s1/bbwg1s.align',\n",
              " 'data/alignments/s1/bbwg2p.align',\n",
              " 'data/alignments/s1/bbwg3a.align',\n",
              " 'data/alignments/s1/bbwgzn.align',\n",
              " 'data/alignments/s1/bbwm4n.align',\n",
              " 'data/alignments/s1/bbwm5s.align',\n",
              " 'data/alignments/s1/bbwm6p.align',\n",
              " 'data/alignments/s1/bbwm7a.align',\n",
              " 'data/alignments/s1/bbws8n.align',\n",
              " 'data/alignments/s1/bbws9s.align',\n",
              " 'data/alignments/s1/bbwt1a.align',\n",
              " 'data/alignments/s1/bbwtzp.align',\n",
              " 'data/alignments/s1/bgaa6n.align',\n",
              " 'data/alignments/s1/bgaa7s.align',\n",
              " 'data/alignments/s1/bgaa8p.align',\n",
              " 'data/alignments/s1/bgaa9a.align',\n",
              " 'data/alignments/s1/bgah1s.align',\n",
              " 'data/alignments/s1/bgah2p.align',\n",
              " 'data/alignments/s1/bgah3a.align',\n",
              " 'data/alignments/s1/bgahzn.align',\n",
              " 'data/alignments/s1/bgan4n.align',\n",
              " 'data/alignments/s1/bgan5s.align',\n",
              " 'data/alignments/s1/bgan6p.align',\n",
              " 'data/alignments/s1/bgan7a.align',\n",
              " 'data/alignments/s1/bgat8n.align',\n",
              " 'data/alignments/s1/bgat9s.align',\n",
              " 'data/alignments/s1/bgau1a.align',\n",
              " 'data/alignments/s1/bgauzp.align',\n",
              " 'data/alignments/s1/bgbb1s.align',\n",
              " 'data/alignments/s1/bgbb2p.align',\n",
              " 'data/alignments/s1/bgbb3a.align',\n",
              " 'data/alignments/s1/bgbbzn.align',\n",
              " 'data/alignments/s1/bgbh4n.align',\n",
              " 'data/alignments/s1/bgbh5s.align',\n",
              " 'data/alignments/s1/bgbh6p.align',\n",
              " 'data/alignments/s1/bgbh7a.align',\n",
              " 'data/alignments/s1/bgbn8n.align',\n",
              " 'data/alignments/s1/bgbn9s.align',\n",
              " 'data/alignments/s1/bgbo1a.align',\n",
              " 'data/alignments/s1/bgbozp.align',\n",
              " 'data/alignments/s1/bgbu2n.align',\n",
              " 'data/alignments/s1/bgbu3s.align',\n",
              " 'data/alignments/s1/bgbu4p.align',\n",
              " 'data/alignments/s1/bgbu5a.align',\n",
              " 'data/alignments/s1/bgia2n.align',\n",
              " 'data/alignments/s1/bgia3s.align',\n",
              " 'data/alignments/s1/bgia4p.align',\n",
              " 'data/alignments/s1/bgia5a.align',\n",
              " 'data/alignments/s1/bgig6n.align',\n",
              " 'data/alignments/s1/bgig7s.align',\n",
              " 'data/alignments/s1/bgig8p.align',\n",
              " 'data/alignments/s1/bgig9a.align',\n",
              " 'data/alignments/s1/bgin1s.align',\n",
              " 'data/alignments/s1/bgin2p.align',\n",
              " 'data/alignments/s1/bgin3a.align',\n",
              " 'data/alignments/s1/bginzn.align',\n",
              " 'data/alignments/s1/bgit4n.align',\n",
              " 'data/alignments/s1/bgit5s.align',\n",
              " 'data/alignments/s1/bgit6p.align',\n",
              " 'data/alignments/s1/bgit7a.align',\n",
              " 'data/alignments/s1/bgwb4n.align',\n",
              " 'data/alignments/s1/bgwb5s.align',\n",
              " 'data/alignments/s1/bgwb6p.align',\n",
              " 'data/alignments/s1/bgwb7a.align',\n",
              " 'data/alignments/s1/bgwh8n.align',\n",
              " 'data/alignments/s1/bgwh9s.align',\n",
              " 'data/alignments/s1/bgwi1a.align',\n",
              " 'data/alignments/s1/bgwizp.align',\n",
              " 'data/alignments/s1/bgwo2n.align',\n",
              " 'data/alignments/s1/bgwo3s.align',\n",
              " 'data/alignments/s1/bgwo4p.align',\n",
              " 'data/alignments/s1/bgwo5a.align',\n",
              " 'data/alignments/s1/bgwu6n.align',\n",
              " 'data/alignments/s1/bgwu7s.align',\n",
              " 'data/alignments/s1/bgwu8p.align',\n",
              " 'data/alignments/s1/bgwu9a.align',\n",
              " 'data/alignments/s1/braf8n.align',\n",
              " 'data/alignments/s1/braf9s.align',\n",
              " 'data/alignments/s1/brag1a.align',\n",
              " 'data/alignments/s1/bragzp.align',\n",
              " 'data/alignments/s1/bram2n.align',\n",
              " 'data/alignments/s1/bram3s.align',\n",
              " 'data/alignments/s1/bram4p.align',\n",
              " 'data/alignments/s1/bram5a.align',\n",
              " 'data/alignments/s1/bras6n.align',\n",
              " 'data/alignments/s1/bras7s.align',\n",
              " 'data/alignments/s1/bras8p.align',\n",
              " 'data/alignments/s1/bras9a.align',\n",
              " 'data/alignments/s1/brba1a.align',\n",
              " 'data/alignments/s1/brbazp.align',\n",
              " 'data/alignments/s1/brbg2n.align',\n",
              " 'data/alignments/s1/brbg3s.align',\n",
              " 'data/alignments/s1/brbg4p.align',\n",
              " 'data/alignments/s1/brbg5a.align',\n",
              " 'data/alignments/s1/brbm6n.align',\n",
              " 'data/alignments/s1/brbm7s.align',\n",
              " 'data/alignments/s1/brbm8p.align',\n",
              " 'data/alignments/s1/brbm9a.align',\n",
              " 'data/alignments/s1/brbt1s.align',\n",
              " 'data/alignments/s1/brbt2p.align',\n",
              " 'data/alignments/s1/brbt3a.align',\n",
              " 'data/alignments/s1/brbtzn.align',\n",
              " 'data/alignments/s1/brif4n.align',\n",
              " 'data/alignments/s1/brif5s.align',\n",
              " 'data/alignments/s1/brif6p.align',\n",
              " 'data/alignments/s1/brif7a.align',\n",
              " 'data/alignments/s1/bril8n.align',\n",
              " 'data/alignments/s1/bril9s.align',\n",
              " 'data/alignments/s1/brim1a.align',\n",
              " 'data/alignments/s1/brimzp.align',\n",
              " 'data/alignments/s1/bris2n.align',\n",
              " 'data/alignments/s1/bris3s.align',\n",
              " 'data/alignments/s1/bris4p.align',\n",
              " 'data/alignments/s1/bris5a.align',\n",
              " 'data/alignments/s1/briz6n.align',\n",
              " 'data/alignments/s1/briz7s.align',\n",
              " 'data/alignments/s1/briz8p.align',\n",
              " 'data/alignments/s1/briz9a.align',\n",
              " 'data/alignments/s1/brwa2n.align',\n",
              " 'data/alignments/s1/brwa3s.align',\n",
              " 'data/alignments/s1/brwa4p.align',\n",
              " 'data/alignments/s1/brwa5a.align',\n",
              " 'data/alignments/s1/brwg6n.align',\n",
              " 'data/alignments/s1/brwg7s.align',\n",
              " 'data/alignments/s1/brwg8p.align',\n",
              " 'data/alignments/s1/brwg9a.align',\n",
              " 'data/alignments/s1/brwn1s.align',\n",
              " 'data/alignments/s1/brwn2p.align',\n",
              " 'data/alignments/s1/brwn3a.align',\n",
              " 'data/alignments/s1/brwnzn.align',\n",
              " 'data/alignments/s1/brwt4n.align',\n",
              " 'data/alignments/s1/brwt5s.align',\n",
              " 'data/alignments/s1/brwt6p.align',\n",
              " 'data/alignments/s1/brwt7a.align',\n",
              " 'data/alignments/s1/bwaa1s.align',\n",
              " 'data/alignments/s1/bwaa2p.align',\n",
              " 'data/alignments/s1/bwaa3a.align',\n",
              " 'data/alignments/s1/bwaazn.align',\n",
              " 'data/alignments/s1/bwag4n.align',\n",
              " 'data/alignments/s1/bwag5s.align',\n",
              " 'data/alignments/s1/bwag6p.align',\n",
              " 'data/alignments/s1/bwag7a.align',\n",
              " 'data/alignments/s1/bwam8n.align',\n",
              " 'data/alignments/s1/bwam9s.align',\n",
              " 'data/alignments/s1/bwan1a.align',\n",
              " 'data/alignments/s1/bwanzp.align',\n",
              " 'data/alignments/s1/bwat2n.align',\n",
              " 'data/alignments/s1/bwat3s.align',\n",
              " 'data/alignments/s1/bwat4p.align',\n",
              " 'data/alignments/s1/bwat5a.align',\n",
              " 'data/alignments/s1/bwba4n.align',\n",
              " 'data/alignments/s1/bwba5s.align',\n",
              " 'data/alignments/s1/bwba6p.align',\n",
              " 'data/alignments/s1/bwba7a.align',\n",
              " 'data/alignments/s1/bwbg8n.align',\n",
              " 'data/alignments/s1/bwbg9s.align',\n",
              " 'data/alignments/s1/bwbh1a.align',\n",
              " 'data/alignments/s1/bwbhzp.align',\n",
              " 'data/alignments/s1/bwbn2n.align',\n",
              " 'data/alignments/s1/bwbn3s.align',\n",
              " 'data/alignments/s1/bwbn4p.align',\n",
              " 'data/alignments/s1/bwbn5a.align',\n",
              " 'data/alignments/s1/bwbt6n.align',\n",
              " 'data/alignments/s1/bwbt7s.align',\n",
              " 'data/alignments/s1/bwbt8p.align',\n",
              " 'data/alignments/s1/bwbt9a.align',\n",
              " 'data/alignments/s1/bwig1s.align',\n",
              " 'data/alignments/s1/bwig2p.align',\n",
              " 'data/alignments/s1/bwig3a.align',\n",
              " 'data/alignments/s1/bwigzn.align',\n",
              " 'data/alignments/s1/bwim4n.align',\n",
              " 'data/alignments/s1/bwim5s.align',\n",
              " 'data/alignments/s1/bwim6p.align',\n",
              " 'data/alignments/s1/bwim7a.align',\n",
              " 'data/alignments/s1/bwis8n.align',\n",
              " 'data/alignments/s1/bwis9s.align',\n",
              " 'data/alignments/s1/bwit1a.align',\n",
              " 'data/alignments/s1/bwitzp.align',\n",
              " 'data/alignments/s1/bwwa8n.align',\n",
              " 'data/alignments/s1/bwwa9s.align',\n",
              " 'data/alignments/s1/bwwb1a.align',\n",
              " 'data/alignments/s1/bwwbzp.align',\n",
              " 'data/alignments/s1/bwwh2n.align',\n",
              " 'data/alignments/s1/bwwh3s.align',\n",
              " 'data/alignments/s1/bwwh4p.align',\n",
              " 'data/alignments/s1/bwwh5a.align',\n",
              " 'data/alignments/s1/bwwn6n.align',\n",
              " 'data/alignments/s1/bwwn7s.align',\n",
              " 'data/alignments/s1/bwwn8p.align',\n",
              " 'data/alignments/s1/bwwn9a.align',\n",
              " 'data/alignments/s1/bwwu1s.align',\n",
              " 'data/alignments/s1/bwwu2p.align',\n",
              " 'data/alignments/s1/bwwu3a.align',\n",
              " 'data/alignments/s1/bwwuzn.align',\n",
              " 'data/alignments/s1/lbad6n.align',\n",
              " 'data/alignments/s1/lbad7s.align',\n",
              " 'data/alignments/s1/lbad8p.align',\n",
              " 'data/alignments/s1/lbad9a.align',\n",
              " 'data/alignments/s1/lbak1s.align',\n",
              " 'data/alignments/s1/lbak2p.align',\n",
              " 'data/alignments/s1/lbak3a.align',\n",
              " 'data/alignments/s1/lbakzn.align',\n",
              " 'data/alignments/s1/lbaq4n.align',\n",
              " 'data/alignments/s1/lbaq5s.align',\n",
              " 'data/alignments/s1/lbaq6p.align',\n",
              " 'data/alignments/s1/lbaq7a.align',\n",
              " 'data/alignments/s1/lbax8n.align',\n",
              " 'data/alignments/s1/lbax9s.align',\n",
              " 'data/alignments/s1/lbay1a.align',\n",
              " 'data/alignments/s1/lbayzp.align',\n",
              " 'data/alignments/s1/lbbe1s.align',\n",
              " 'data/alignments/s1/lbbe2p.align',\n",
              " 'data/alignments/s1/lbbe3a.align',\n",
              " 'data/alignments/s1/lbbezn.align',\n",
              " 'data/alignments/s1/lbbk4n.align',\n",
              " 'data/alignments/s1/lbbk5s.align',\n",
              " 'data/alignments/s1/lbbk6p.align',\n",
              " 'data/alignments/s1/lbbk7a.align',\n",
              " 'data/alignments/s1/lbbq8n.align',\n",
              " 'data/alignments/s1/lbbq9s.align',\n",
              " 'data/alignments/s1/lbbr1a.align',\n",
              " 'data/alignments/s1/lbbrzp.align',\n",
              " 'data/alignments/s1/lbby2n.align',\n",
              " 'data/alignments/s1/lbby3s.align',\n",
              " 'data/alignments/s1/lbby4p.align',\n",
              " 'data/alignments/s1/lbby5a.align',\n",
              " 'data/alignments/s1/lbid2n.align',\n",
              " 'data/alignments/s1/lbid3s.align',\n",
              " 'data/alignments/s1/lbid4p.align',\n",
              " 'data/alignments/s1/lbid5a.align',\n",
              " 'data/alignments/s1/lbij6n.align',\n",
              " 'data/alignments/s1/lbij7s.align',\n",
              " 'data/alignments/s1/lbij8p.align',\n",
              " 'data/alignments/s1/lbij9a.align',\n",
              " 'data/alignments/s1/lbiq1s.align',\n",
              " 'data/alignments/s1/lbiq2p.align',\n",
              " 'data/alignments/s1/lbiq3a.align',\n",
              " 'data/alignments/s1/lbiqzn.align',\n",
              " 'data/alignments/s1/lbix4n.align',\n",
              " 'data/alignments/s1/lbix5s.align',\n",
              " 'data/alignments/s1/lbix6p.align',\n",
              " 'data/alignments/s1/lbix7a.align',\n",
              " 'data/alignments/s1/lbwe4n.align',\n",
              " 'data/alignments/s1/lbwe5s.align',\n",
              " 'data/alignments/s1/lbwe6p.align',\n",
              " 'data/alignments/s1/lbwe7a.align',\n",
              " 'data/alignments/s1/lbwk8n.align',\n",
              " 'data/alignments/s1/lbwk9s.align',\n",
              " 'data/alignments/s1/lbwl1a.align',\n",
              " 'data/alignments/s1/lbwlzp.align',\n",
              " 'data/alignments/s1/lbwr2n.align',\n",
              " 'data/alignments/s1/lbwr3s.align',\n",
              " 'data/alignments/s1/lbwr4p.align',\n",
              " 'data/alignments/s1/lbwr5a.align',\n",
              " 'data/alignments/s1/lbwy6n.align',\n",
              " 'data/alignments/s1/lbwy7s.align',\n",
              " 'data/alignments/s1/lbwy8p.align',\n",
              " 'data/alignments/s1/lbwy9a.align',\n",
              " 'data/alignments/s1/lgaf4n.align',\n",
              " 'data/alignments/s1/lgaf5s.align',\n",
              " 'data/alignments/s1/lgaf6p.align',\n",
              " 'data/alignments/s1/lgaf7a.align',\n",
              " 'data/alignments/s1/lgal8n.align',\n",
              " 'data/alignments/s1/lgal9s.align',\n",
              " 'data/alignments/s1/lgam1a.align',\n",
              " 'data/alignments/s1/lgamzp.align',\n",
              " 'data/alignments/s1/lgas2n.align',\n",
              " 'data/alignments/s1/lgas3s.align',\n",
              " 'data/alignments/s1/lgas4p.align',\n",
              " 'data/alignments/s1/lgas5a.align',\n",
              " 'data/alignments/s1/lgaz6n.align',\n",
              " 'data/alignments/s1/lgaz7s.align',\n",
              " 'data/alignments/s1/lgaz8p.align',\n",
              " 'data/alignments/s1/lgaz9a.align',\n",
              " 'data/alignments/s1/lgbf8n.align',\n",
              " 'data/alignments/s1/lgbf9s.align',\n",
              " 'data/alignments/s1/lgbg1a.align',\n",
              " 'data/alignments/s1/lgbgzp.align',\n",
              " 'data/alignments/s1/lgbm2n.align',\n",
              " 'data/alignments/s1/lgbm3s.align',\n",
              " 'data/alignments/s1/lgbm4p.align',\n",
              " 'data/alignments/s1/lgbm5a.align',\n",
              " 'data/alignments/s1/lgbs6n.align',\n",
              " 'data/alignments/s1/lgbs7s.align',\n",
              " 'data/alignments/s1/lgbs8p.align',\n",
              " 'data/alignments/s1/lgbs9a.align',\n",
              " 'data/alignments/s1/lgif1s.align',\n",
              " 'data/alignments/s1/lgif2p.align',\n",
              " 'data/alignments/s1/lgif3a.align',\n",
              " 'data/alignments/s1/lgifzn.align',\n",
              " 'data/alignments/s1/lgil4n.align',\n",
              " 'data/alignments/s1/lgil5s.align',\n",
              " 'data/alignments/s1/lgil6p.align',\n",
              " 'data/alignments/s1/lgil7a.align',\n",
              " 'data/alignments/s1/lgir8n.align',\n",
              " 'data/alignments/s1/lgir9s.align',\n",
              " 'data/alignments/s1/lgis1a.align',\n",
              " 'data/alignments/s1/lgiszp.align',\n",
              " 'data/alignments/s1/lgiz2n.align',\n",
              " 'data/alignments/s1/lgiz3s.align',\n",
              " 'data/alignments/s1/lgiz4p.align',\n",
              " 'data/alignments/s1/lgiz5a.align',\n",
              " 'data/alignments/s1/lgwa1a.align',\n",
              " 'data/alignments/s1/lgwazp.align',\n",
              " 'data/alignments/s1/lgwg2n.align',\n",
              " 'data/alignments/s1/lgwg3s.align',\n",
              " 'data/alignments/s1/lgwg4p.align',\n",
              " 'data/alignments/s1/lgwg5a.align',\n",
              " 'data/alignments/s1/lgwm6n.align',\n",
              " 'data/alignments/s1/lgwm7s.align',\n",
              " 'data/alignments/s1/lgwm8p.align',\n",
              " 'data/alignments/s1/lgwm9a.align',\n",
              " 'data/alignments/s1/lgwt1s.align',\n",
              " 'data/alignments/s1/lgwt2p.align',\n",
              " 'data/alignments/s1/lgwt3a.align',\n",
              " 'data/alignments/s1/lgwtzn.align',\n",
              " 'data/alignments/s1/lrae2n.align',\n",
              " 'data/alignments/s1/lrae3s.align',\n",
              " 'data/alignments/s1/lrae4p.align',\n",
              " 'data/alignments/s1/lrae5a.align',\n",
              " 'data/alignments/s1/lrak6n.align',\n",
              " 'data/alignments/s1/lrak7s.align',\n",
              " 'data/alignments/s1/lrak8p.align',\n",
              " 'data/alignments/s1/lrak9a.align',\n",
              " 'data/alignments/s1/lrar1s.align',\n",
              " 'data/alignments/s1/lrar2p.align',\n",
              " 'data/alignments/s1/lrar3a.align',\n",
              " 'data/alignments/s1/lrarzn.align',\n",
              " 'data/alignments/s1/lray4n.align',\n",
              " 'data/alignments/s1/lray5s.align',\n",
              " 'data/alignments/s1/lray6p.align',\n",
              " 'data/alignments/s1/lray7a.align',\n",
              " 'data/alignments/s1/lrbe6n.align',\n",
              " 'data/alignments/s1/lrbe7s.align',\n",
              " 'data/alignments/s1/lrbe8p.align',\n",
              " 'data/alignments/s1/lrbe9a.align',\n",
              " 'data/alignments/s1/lrbl1s.align',\n",
              " 'data/alignments/s1/lrbl2p.align',\n",
              " 'data/alignments/s1/lrbl3a.align',\n",
              " 'data/alignments/s1/lrblzn.align',\n",
              " 'data/alignments/s1/lrbr4n.align',\n",
              " 'data/alignments/s1/lrbr5s.align',\n",
              " 'data/alignments/s1/lrbr6p.align',\n",
              " 'data/alignments/s1/lrbr7a.align',\n",
              " 'data/alignments/s1/lrby8n.align',\n",
              " 'data/alignments/s1/lrby9s.align',\n",
              " 'data/alignments/s1/lrbz1a.align',\n",
              " 'data/alignments/s1/lrbzzp.align',\n",
              " 'data/alignments/s1/lrid8n.align',\n",
              " 'data/alignments/s1/lrid9s.align',\n",
              " 'data/alignments/s1/lrie1a.align',\n",
              " 'data/alignments/s1/lriezp.align',\n",
              " 'data/alignments/s1/lrik2n.align',\n",
              " 'data/alignments/s1/lrik3s.align',\n",
              " 'data/alignments/s1/lrik4p.align',\n",
              " 'data/alignments/s1/lrik5a.align',\n",
              " 'data/alignments/s1/lriq6n.align',\n",
              " 'data/alignments/s1/lriq7s.align',\n",
              " 'data/alignments/s1/lriq8p.align',\n",
              " 'data/alignments/s1/lriq9a.align',\n",
              " 'data/alignments/s1/lriy1s.align',\n",
              " 'data/alignments/s1/lriy2p.align',\n",
              " 'data/alignments/s1/lriy3a.align',\n",
              " 'data/alignments/s1/lriyzn.align',\n",
              " 'data/alignments/s1/lrwf1s.align',\n",
              " 'data/alignments/s1/lrwf2p.align',\n",
              " 'data/alignments/s1/lrwf3a.align',\n",
              " 'data/alignments/s1/lrwfzn.align',\n",
              " 'data/alignments/s1/lrwl4n.align',\n",
              " 'data/alignments/s1/lrwl5s.align',\n",
              " 'data/alignments/s1/lrwl6p.align',\n",
              " 'data/alignments/s1/lrwl7a.align',\n",
              " 'data/alignments/s1/lrwr8n.align',\n",
              " 'data/alignments/s1/lrwr9s.align',\n",
              " 'data/alignments/s1/lrws1a.align',\n",
              " 'data/alignments/s1/lrwszp.align',\n",
              " 'data/alignments/s1/lrwz2n.align',\n",
              " 'data/alignments/s1/lrwz3s.align',\n",
              " 'data/alignments/s1/lrwz4p.align',\n",
              " 'data/alignments/s1/lrwz5a.align',\n",
              " 'data/alignments/s1/lwae8n.align',\n",
              " 'data/alignments/s1/lwae9s.align',\n",
              " 'data/alignments/s1/lwaf1a.align',\n",
              " 'data/alignments/s1/lwafzp.align',\n",
              " 'data/alignments/s1/lwal2n.align',\n",
              " 'data/alignments/s1/lwal3s.align',\n",
              " 'data/alignments/s1/lwal4p.align',\n",
              " 'data/alignments/s1/lwal5a.align',\n",
              " 'data/alignments/s1/lwar6n.align',\n",
              " 'data/alignments/s1/lwar7s.align',\n",
              " 'data/alignments/s1/lwar8p.align',\n",
              " 'data/alignments/s1/lwar9a.align',\n",
              " 'data/alignments/s1/lwaz1s.align',\n",
              " 'data/alignments/s1/lwaz2p.align',\n",
              " 'data/alignments/s1/lwaz3a.align',\n",
              " 'data/alignments/s1/lwazzn.align',\n",
              " 'data/alignments/s1/lwbf2n.align',\n",
              " 'data/alignments/s1/lwbf3s.align',\n",
              " 'data/alignments/s1/lwbf4p.align',\n",
              " 'data/alignments/s1/lwbf5a.align',\n",
              " 'data/alignments/s1/lwbl6n.align',\n",
              " 'data/alignments/s1/lwbl7s.align',\n",
              " 'data/alignments/s1/lwbl8p.align',\n",
              " 'data/alignments/s1/lwbl9a.align',\n",
              " 'data/alignments/s1/lwbs1s.align',\n",
              " 'data/alignments/s1/lwbs2p.align',\n",
              " 'data/alignments/s1/lwbs3a.align',\n",
              " 'data/alignments/s1/lwbszn.align',\n",
              " 'data/alignments/s1/lwbz4n.align',\n",
              " 'data/alignments/s1/lwbz5s.align',\n",
              " 'data/alignments/s1/lwbz6p.align',\n",
              " 'data/alignments/s1/lwbz7a.align',\n",
              " 'data/alignments/s1/lwie4n.align',\n",
              " 'data/alignments/s1/lwie5s.align',\n",
              " 'data/alignments/s1/lwie6p.align',\n",
              " 'data/alignments/s1/lwie7a.align',\n",
              " 'data/alignments/s1/lwik8n.align',\n",
              " 'data/alignments/s1/lwik9s.align',\n",
              " 'data/alignments/s1/lwil1a.align',\n",
              " 'data/alignments/s1/lwilzp.align',\n",
              " 'data/alignments/s1/lwir2n.align',\n",
              " 'data/alignments/s1/lwir3s.align',\n",
              " 'data/alignments/s1/lwir4p.align',\n",
              " 'data/alignments/s1/lwir5a.align',\n",
              " 'data/alignments/s1/lwiy6n.align',\n",
              " 'data/alignments/s1/lwiy7s.align',\n",
              " 'data/alignments/s1/lwiy8p.align',\n",
              " 'data/alignments/s1/lwiy9a.align',\n",
              " 'data/alignments/s1/lwwf6n.align',\n",
              " 'data/alignments/s1/lwwf7s.align',\n",
              " 'data/alignments/s1/lwwf8p.align',\n",
              " 'data/alignments/s1/lwwf9a.align',\n",
              " 'data/alignments/s1/lwwm1s.align',\n",
              " 'data/alignments/s1/lwwm2p.align',\n",
              " 'data/alignments/s1/lwwm3a.align',\n",
              " 'data/alignments/s1/lwwmzn.align',\n",
              " 'data/alignments/s1/lwws4n.align',\n",
              " 'data/alignments/s1/lwws5s.align',\n",
              " 'data/alignments/s1/lwws6p.align',\n",
              " 'data/alignments/s1/lwws7a.align',\n",
              " 'data/alignments/s1/lwwz8n.align',\n",
              " 'data/alignments/s1/lwwz9s.align',\n",
              " 'data/alignments/s1/pbac1s.align',\n",
              " 'data/alignments/s1/pbac2p.align',\n",
              " 'data/alignments/s1/pbac3a.align',\n",
              " 'data/alignments/s1/pbaczn.align',\n",
              " 'data/alignments/s1/pbai4n.align',\n",
              " 'data/alignments/s1/pbai5s.align',\n",
              " 'data/alignments/s1/pbai6p.align',\n",
              " 'data/alignments/s1/pbai7a.align',\n",
              " 'data/alignments/s1/pbao8n.align',\n",
              " 'data/alignments/s1/pbao9s.align',\n",
              " 'data/alignments/s1/pbap1a.align',\n",
              " 'data/alignments/s1/pbapzp.align',\n",
              " 'data/alignments/s1/pbav2n.align',\n",
              " 'data/alignments/s1/pbav3s.align',\n",
              " 'data/alignments/s1/pbav4p.align',\n",
              " 'data/alignments/s1/pbav5a.align',\n",
              " 'data/alignments/s1/pbbc4n.align',\n",
              " 'data/alignments/s1/pbbc5s.align',\n",
              " 'data/alignments/s1/pbbc6p.align',\n",
              " 'data/alignments/s1/pbbc7a.align',\n",
              " 'data/alignments/s1/pbbi8n.align',\n",
              " 'data/alignments/s1/pbbi9s.align',\n",
              " 'data/alignments/s1/pbbj1a.align',\n",
              " 'data/alignments/s1/pbbjzp.align',\n",
              " 'data/alignments/s1/pbbp2n.align',\n",
              " 'data/alignments/s1/pbbp3s.align',\n",
              " 'data/alignments/s1/pbbp4p.align',\n",
              " 'data/alignments/s1/pbbp5a.align',\n",
              " 'data/alignments/s1/pbbv6n.align',\n",
              " 'data/alignments/s1/pbbv7s.align',\n",
              " 'data/alignments/s1/pbbv8p.align',\n",
              " 'data/alignments/s1/pbbv9a.align',\n",
              " 'data/alignments/s1/pbib6n.align',\n",
              " 'data/alignments/s1/pbib7s.align',\n",
              " 'data/alignments/s1/pbib8p.align',\n",
              " 'data/alignments/s1/pbib9a.align',\n",
              " 'data/alignments/s1/pbii1s.align',\n",
              " 'data/alignments/s1/pbii2p.align',\n",
              " 'data/alignments/s1/pbii3a.align',\n",
              " 'data/alignments/s1/pbiizn.align',\n",
              " 'data/alignments/s1/pbio4n.align',\n",
              " 'data/alignments/s1/pbio5s.align',\n",
              " 'data/alignments/s1/pbio6p.align',\n",
              " 'data/alignments/s1/pbio7a.align',\n",
              " 'data/alignments/s1/pbiu8n.align',\n",
              " 'data/alignments/s1/pbiu9s.align',\n",
              " 'data/alignments/s1/pbiv1a.align',\n",
              " 'data/alignments/s1/pbivzp.align',\n",
              " 'data/alignments/s1/pbwc8n.align',\n",
              " 'data/alignments/s1/pbwc9s.align',\n",
              " 'data/alignments/s1/pbwd1a.align',\n",
              " 'data/alignments/s1/pbwdzp.align',\n",
              " 'data/alignments/s1/pbwj2n.align',\n",
              " 'data/alignments/s1/pbwj3s.align',\n",
              " 'data/alignments/s1/pbwj4p.align',\n",
              " 'data/alignments/s1/pbwj5a.align',\n",
              " 'data/alignments/s1/pbwp6n.align',\n",
              " 'data/alignments/s1/pbwp7s.align',\n",
              " 'data/alignments/s1/pbwp8p.align',\n",
              " 'data/alignments/s1/pbwp9a.align',\n",
              " 'data/alignments/s1/pbwx1s.align',\n",
              " 'data/alignments/s1/pbwx2p.align',\n",
              " 'data/alignments/s1/pbwx3a.align',\n",
              " 'data/alignments/s1/pbwxzn.align',\n",
              " 'data/alignments/s1/pgad8n.align',\n",
              " 'data/alignments/s1/pgad9s.align',\n",
              " 'data/alignments/s1/pgae1a.align',\n",
              " 'data/alignments/s1/pgaezp.align',\n",
              " 'data/alignments/s1/pgak2n.align',\n",
              " 'data/alignments/s1/pgak3s.align',\n",
              " 'data/alignments/s1/pgak4p.align',\n",
              " 'data/alignments/s1/pgak5a.align',\n",
              " 'data/alignments/s1/pgaq6n.align',\n",
              " 'data/alignments/s1/pgaq7s.align',\n",
              " 'data/alignments/s1/pgaq8p.align',\n",
              " 'data/alignments/s1/pgaq9a.align',\n",
              " 'data/alignments/s1/pgay1s.align',\n",
              " 'data/alignments/s1/pgay2p.align',\n",
              " 'data/alignments/s1/pgay3a.align',\n",
              " 'data/alignments/s1/pgayzn.align',\n",
              " 'data/alignments/s1/pgbe2n.align',\n",
              " 'data/alignments/s1/pgbe3s.align',\n",
              " 'data/alignments/s1/pgbe4p.align',\n",
              " 'data/alignments/s1/pgbe5a.align',\n",
              " 'data/alignments/s1/pgbk6n.align',\n",
              " 'data/alignments/s1/pgbk7s.align',\n",
              " 'data/alignments/s1/pgbk8p.align',\n",
              " 'data/alignments/s1/pgbk9a.align',\n",
              " 'data/alignments/s1/pgbr1s.align',\n",
              " 'data/alignments/s1/pgbr2p.align',\n",
              " 'data/alignments/s1/pgbr3a.align',\n",
              " 'data/alignments/s1/pgbrzn.align',\n",
              " 'data/alignments/s1/pgby4n.align',\n",
              " 'data/alignments/s1/pgby5s.align',\n",
              " 'data/alignments/s1/pgby6p.align',\n",
              " 'data/alignments/s1/pgby7a.align',\n",
              " 'data/alignments/s1/pgid4n.align',\n",
              " 'data/alignments/s1/pgid5s.align',\n",
              " 'data/alignments/s1/pgid6p.align',\n",
              " 'data/alignments/s1/pgid7a.align',\n",
              " 'data/alignments/s1/pgij8n.align',\n",
              " 'data/alignments/s1/pgij9s.align',\n",
              " 'data/alignments/s1/pgik1a.align',\n",
              " 'data/alignments/s1/pgikzp.align',\n",
              " 'data/alignments/s1/pgiq2n.align',\n",
              " 'data/alignments/s1/pgiq3s.align',\n",
              " 'data/alignments/s1/pgiq4p.align',\n",
              " 'data/alignments/s1/pgiq5a.align',\n",
              " 'data/alignments/s1/pgix6n.align',\n",
              " 'data/alignments/s1/pgix7s.align',\n",
              " 'data/alignments/s1/pgix8p.align',\n",
              " 'data/alignments/s1/pgix9a.align',\n",
              " 'data/alignments/s1/pgwe6n.align',\n",
              " 'data/alignments/s1/pgwe7s.align',\n",
              " 'data/alignments/s1/pgwe8p.align',\n",
              " 'data/alignments/s1/pgwe9a.align',\n",
              " 'data/alignments/s1/pgwl1s.align',\n",
              " 'data/alignments/s1/pgwl2p.align',\n",
              " 'data/alignments/s1/pgwl3a.align',\n",
              " 'data/alignments/s1/pgwlzn.align',\n",
              " 'data/alignments/s1/pgwr4n.align',\n",
              " 'data/alignments/s1/pgwr5s.align',\n",
              " 'data/alignments/s1/pgwr6p.align',\n",
              " 'data/alignments/s1/pgwr7a.align',\n",
              " 'data/alignments/s1/pgwy8n.align',\n",
              " 'data/alignments/s1/pgwy9s.align',\n",
              " 'data/alignments/s1/pgwz1a.align',\n",
              " 'data/alignments/s1/pgwzzp.align',\n",
              " 'data/alignments/s1/prac6n.align',\n",
              " 'data/alignments/s1/prac7s.align',\n",
              " 'data/alignments/s1/prac8p.align',\n",
              " 'data/alignments/s1/prac9a.align',\n",
              " 'data/alignments/s1/praj1s.align',\n",
              " 'data/alignments/s1/praj2p.align',\n",
              " 'data/alignments/s1/praj3a.align',\n",
              " 'data/alignments/s1/prajzn.align',\n",
              " 'data/alignments/s1/prap4n.align',\n",
              " 'data/alignments/s1/prap5s.align',\n",
              " 'data/alignments/s1/prap6p.align',\n",
              " 'data/alignments/s1/prap7a.align',\n",
              " 'data/alignments/s1/prav8n.align',\n",
              " 'data/alignments/s1/prav9s.align',\n",
              " 'data/alignments/s1/prax1a.align',\n",
              " 'data/alignments/s1/praxzp.align',\n",
              " 'data/alignments/s1/prbd1s.align',\n",
              " 'data/alignments/s1/prbd2p.align',\n",
              " 'data/alignments/s1/prbd3a.align',\n",
              " 'data/alignments/s1/prbdzn.align',\n",
              " 'data/alignments/s1/prbj4n.align',\n",
              " 'data/alignments/s1/prbj5s.align',\n",
              " 'data/alignments/s1/prbj6p.align',\n",
              " 'data/alignments/s1/prbj7a.align',\n",
              " 'data/alignments/s1/prbp8n.align',\n",
              " 'data/alignments/s1/prbp9s.align',\n",
              " 'data/alignments/s1/prbq1a.align',\n",
              " 'data/alignments/s1/prbqzp.align',\n",
              " 'data/alignments/s1/prbx2n.align',\n",
              " 'data/alignments/s1/prbx3s.align',\n",
              " 'data/alignments/s1/prbx4p.align',\n",
              " 'data/alignments/s1/prbx5a.align',\n",
              " 'data/alignments/s1/pric2n.align',\n",
              " 'data/alignments/s1/pric3s.align',\n",
              " 'data/alignments/s1/pric4p.align',\n",
              " 'data/alignments/s1/pric5a.align',\n",
              " 'data/alignments/s1/prii6n.align',\n",
              " 'data/alignments/s1/prii7s.align',\n",
              " 'data/alignments/s1/prii8p.align',\n",
              " 'data/alignments/s1/prii9a.align',\n",
              " 'data/alignments/s1/prip1s.align',\n",
              " 'data/alignments/s1/prip2p.align',\n",
              " 'data/alignments/s1/prip3a.align',\n",
              " 'data/alignments/s1/pripzn.align',\n",
              " 'data/alignments/s1/priv4n.align',\n",
              " 'data/alignments/s1/priv5s.align',\n",
              " 'data/alignments/s1/priv6p.align',\n",
              " 'data/alignments/s1/priv7a.align',\n",
              " 'data/alignments/s1/prwd4n.align',\n",
              " 'data/alignments/s1/prwd5s.align',\n",
              " 'data/alignments/s1/prwd6p.align',\n",
              " 'data/alignments/s1/prwd7a.align',\n",
              " 'data/alignments/s1/prwj8n.align',\n",
              " 'data/alignments/s1/prwj9s.align',\n",
              " 'data/alignments/s1/prwk1a.align',\n",
              " 'data/alignments/s1/prwkzp.align',\n",
              " 'data/alignments/s1/prwq2n.align',\n",
              " 'data/alignments/s1/prwq3s.align',\n",
              " 'data/alignments/s1/prwq4p.align',\n",
              " 'data/alignments/s1/prwq5a.align',\n",
              " 'data/alignments/s1/prwx6n.align',\n",
              " 'data/alignments/s1/prwx7s.align',\n",
              " 'data/alignments/s1/prwx8p.align',\n",
              " 'data/alignments/s1/prwx9a.align',\n",
              " 'data/alignments/s1/pwad2n.align',\n",
              " 'data/alignments/s1/pwad3s.align',\n",
              " 'data/alignments/s1/pwad4p.align',\n",
              " 'data/alignments/s1/pwad5a.align',\n",
              " 'data/alignments/s1/pwaj6n.align',\n",
              " 'data/alignments/s1/pwaj7s.align',\n",
              " 'data/alignments/s1/pwaj8p.align',\n",
              " 'data/alignments/s1/pwaj9a.align',\n",
              " 'data/alignments/s1/pwaq1s.align',\n",
              " 'data/alignments/s1/pwaq2p.align',\n",
              " 'data/alignments/s1/pwaq3a.align',\n",
              " 'data/alignments/s1/pwaqzn.align',\n",
              " 'data/alignments/s1/pwax4n.align',\n",
              " 'data/alignments/s1/pwax5s.align',\n",
              " 'data/alignments/s1/pwax6p.align',\n",
              " 'data/alignments/s1/pwax7a.align',\n",
              " 'data/alignments/s1/pwbd6n.align',\n",
              " 'data/alignments/s1/pwbd7s.align',\n",
              " 'data/alignments/s1/pwbd8p.align',\n",
              " 'data/alignments/s1/pwbd9a.align',\n",
              " 'data/alignments/s1/pwbk1s.align',\n",
              " 'data/alignments/s1/pwbk2p.align',\n",
              " 'data/alignments/s1/pwbk3a.align',\n",
              " 'data/alignments/s1/pwbkzn.align',\n",
              " 'data/alignments/s1/pwbq4n.align',\n",
              " 'data/alignments/s1/pwbq5s.align',\n",
              " 'data/alignments/s1/pwbq6p.align',\n",
              " 'data/alignments/s1/pwbq7a.align',\n",
              " 'data/alignments/s1/pwbx8n.align',\n",
              " 'data/alignments/s1/pwbx9s.align',\n",
              " 'data/alignments/s1/pwby1a.align',\n",
              " 'data/alignments/s1/pwbyzp.align',\n",
              " 'data/alignments/s1/pwic8n.align',\n",
              " 'data/alignments/s1/pwic9s.align',\n",
              " 'data/alignments/s1/pwid1a.align',\n",
              " 'data/alignments/s1/pwidzp.align',\n",
              " 'data/alignments/s1/pwij2n.align',\n",
              " 'data/alignments/s1/pwij3s.align',\n",
              " 'data/alignments/s1/pwij4p.align',\n",
              " 'data/alignments/s1/pwij5a.align',\n",
              " 'data/alignments/s1/pwip6n.align',\n",
              " 'data/alignments/s1/pwip7s.align',\n",
              " 'data/alignments/s1/pwip8p.align',\n",
              " 'data/alignments/s1/pwip9a.align',\n",
              " 'data/alignments/s1/pwix1s.align',\n",
              " 'data/alignments/s1/pwix2p.align',\n",
              " 'data/alignments/s1/pwix3a.align',\n",
              " 'data/alignments/s1/pwixzn.align',\n",
              " 'data/alignments/s1/pwwe1s.align',\n",
              " 'data/alignments/s1/pwwe2p.align',\n",
              " 'data/alignments/s1/pwwe3a.align',\n",
              " 'data/alignments/s1/pwwezn.align',\n",
              " 'data/alignments/s1/pwwk4n.align',\n",
              " 'data/alignments/s1/pwwk5s.align',\n",
              " 'data/alignments/s1/pwwk6p.align',\n",
              " 'data/alignments/s1/pwwk7a.align',\n",
              " 'data/alignments/s1/pwwq8n.align',\n",
              " 'data/alignments/s1/pwwq9s.align',\n",
              " 'data/alignments/s1/pwwr1a.align',\n",
              " 'data/alignments/s1/pwwrzp.align',\n",
              " 'data/alignments/s1/pwwy2n.align',\n",
              " 'data/alignments/s1/pwwy3s.align',\n",
              " 'data/alignments/s1/pwwy4p.align',\n",
              " 'data/alignments/s1/pwwy5a.align',\n",
              " 'data/alignments/s1/sbaa4n.align',\n",
              " 'data/alignments/s1/sbaa5s.align',\n",
              " 'data/alignments/s1/sbaa6p.align',\n",
              " 'data/alignments/s1/sbaa7a.align',\n",
              " 'data/alignments/s1/sbag8n.align',\n",
              " 'data/alignments/s1/sbag9s.align',\n",
              " 'data/alignments/s1/sbah1a.align',\n",
              " 'data/alignments/s1/sbahzp.align',\n",
              " 'data/alignments/s1/sban2n.align',\n",
              " 'data/alignments/s1/sban3s.align',\n",
              " 'data/alignments/s1/sban4p.align',\n",
              " 'data/alignments/s1/sban5a.align',\n",
              " 'data/alignments/s1/sbat6n.align',\n",
              " 'data/alignments/s1/sbat7s.align',\n",
              " 'data/alignments/s1/sbat8p.align',\n",
              " 'data/alignments/s1/sbat9a.align',\n",
              " 'data/alignments/s1/sbba8n.align',\n",
              " 'data/alignments/s1/sbba9s.align',\n",
              " 'data/alignments/s1/sbbb1a.align',\n",
              " 'data/alignments/s1/sbbbzp.align',\n",
              " 'data/alignments/s1/sbbh2n.align',\n",
              " 'data/alignments/s1/sbbh3s.align',\n",
              " 'data/alignments/s1/sbbh4p.align',\n",
              " 'data/alignments/s1/sbbh5a.align',\n",
              " 'data/alignments/s1/sbbn6n.align',\n",
              " 'data/alignments/s1/sbbn7s.align',\n",
              " 'data/alignments/s1/sbbn8p.align',\n",
              " 'data/alignments/s1/sbbn9a.align',\n",
              " 'data/alignments/s1/sbbu1s.align',\n",
              " 'data/alignments/s1/sbbu2p.align',\n",
              " 'data/alignments/s1/sbbu3a.align',\n",
              " 'data/alignments/s1/sbbuzn.align',\n",
              " 'data/alignments/s1/sbia1s.align',\n",
              " 'data/alignments/s1/sbia2p.align',\n",
              " 'data/alignments/s1/sbia3a.align',\n",
              " 'data/alignments/s1/sbiazn.align',\n",
              " 'data/alignments/s1/sbig4n.align',\n",
              " 'data/alignments/s1/sbig5s.align',\n",
              " 'data/alignments/s1/sbig6p.align',\n",
              " 'data/alignments/s1/sbig7a.align',\n",
              " 'data/alignments/s1/sbim8n.align',\n",
              " 'data/alignments/s1/sbim9s.align',\n",
              " 'data/alignments/s1/sbin1a.align',\n",
              " 'data/alignments/s1/sbinzp.align',\n",
              " 'data/alignments/s1/sbit2n.align',\n",
              " 'data/alignments/s1/sbit3s.align',\n",
              " 'data/alignments/s1/sbit4p.align',\n",
              " 'data/alignments/s1/sbit5a.align',\n",
              " 'data/alignments/s1/sbwb2n.align',\n",
              " 'data/alignments/s1/sbwb3s.align',\n",
              " 'data/alignments/s1/sbwb4p.align',\n",
              " 'data/alignments/s1/sbwb5a.align',\n",
              " 'data/alignments/s1/sbwh6n.align',\n",
              " 'data/alignments/s1/sbwh7s.align',\n",
              " 'data/alignments/s1/sbwh8p.align',\n",
              " 'data/alignments/s1/sbwh9a.align',\n",
              " 'data/alignments/s1/sbwo1s.align',\n",
              " 'data/alignments/s1/sbwo2p.align',\n",
              " 'data/alignments/s1/sbwo3a.align',\n",
              " 'data/alignments/s1/sbwozn.align',\n",
              " 'data/alignments/s1/sbwu4n.align',\n",
              " 'data/alignments/s1/sbwu5s.align',\n",
              " 'data/alignments/s1/sbwu6p.align',\n",
              " 'data/alignments/s1/sbwu7a.align',\n",
              " 'data/alignments/s1/sgac2n.align',\n",
              " 'data/alignments/s1/sgac3s.align',\n",
              " 'data/alignments/s1/sgac4p.align',\n",
              " 'data/alignments/s1/sgac5a.align',\n",
              " 'data/alignments/s1/sgai6n.align',\n",
              " 'data/alignments/s1/sgai7s.align',\n",
              " 'data/alignments/s1/sgai8p.align',\n",
              " 'data/alignments/s1/sgai9a.align',\n",
              " 'data/alignments/s1/sgap1s.align',\n",
              " 'data/alignments/s1/sgap2p.align',\n",
              " 'data/alignments/s1/sgap3a.align',\n",
              " 'data/alignments/s1/sgapzn.align',\n",
              " 'data/alignments/s1/sgav4n.align',\n",
              " 'data/alignments/s1/sgav5s.align',\n",
              " 'data/alignments/s1/sgav6p.align',\n",
              " 'data/alignments/s1/sgav7a.align',\n",
              " 'data/alignments/s1/sgbc6n.align',\n",
              " 'data/alignments/s1/sgbc7s.align',\n",
              " 'data/alignments/s1/sgbc8p.align',\n",
              " 'data/alignments/s1/sgbc9a.align',\n",
              " 'data/alignments/s1/sgbj1s.align',\n",
              " 'data/alignments/s1/sgbj2p.align',\n",
              " 'data/alignments/s1/sgbj3a.align',\n",
              " 'data/alignments/s1/sgbjzn.align',\n",
              " 'data/alignments/s1/sgbp4n.align',\n",
              " 'data/alignments/s1/sgbp5s.align',\n",
              " 'data/alignments/s1/sgbp6p.align',\n",
              " 'data/alignments/s1/sgbp7a.align',\n",
              " 'data/alignments/s1/sgbv8n.align',\n",
              " 'data/alignments/s1/sgbv9s.align',\n",
              " 'data/alignments/s1/sgbx1a.align',\n",
              " 'data/alignments/s1/sgbxzp.align',\n",
              " 'data/alignments/s1/sgib8n.align',\n",
              " 'data/alignments/s1/sgib9s.align',\n",
              " 'data/alignments/s1/sgic1a.align',\n",
              " 'data/alignments/s1/sgiczp.align',\n",
              " 'data/alignments/s1/sgii2n.align',\n",
              " 'data/alignments/s1/sgii3s.align',\n",
              " 'data/alignments/s1/sgii4p.align',\n",
              " 'data/alignments/s1/sgii5a.align',\n",
              " 'data/alignments/s1/sgio6n.align',\n",
              " 'data/alignments/s1/sgio7s.align',\n",
              " 'data/alignments/s1/sgio8p.align',\n",
              " 'data/alignments/s1/sgio9a.align',\n",
              " 'data/alignments/s1/sgiv1s.align',\n",
              " 'data/alignments/s1/sgiv2p.align',\n",
              " 'data/alignments/s1/sgiv3a.align',\n",
              " 'data/alignments/s1/sgivzn.align',\n",
              " 'data/alignments/s1/sgwd1s.align',\n",
              " 'data/alignments/s1/sgwd2p.align',\n",
              " 'data/alignments/s1/sgwd3a.align',\n",
              " 'data/alignments/s1/sgwdzn.align',\n",
              " 'data/alignments/s1/sgwj4n.align',\n",
              " 'data/alignments/s1/sgwj5s.align',\n",
              " 'data/alignments/s1/sgwj6p.align',\n",
              " 'data/alignments/s1/sgwj7a.align',\n",
              " 'data/alignments/s1/sgwp8n.align',\n",
              " 'data/alignments/s1/sgwp9s.align',\n",
              " 'data/alignments/s1/sgwq1a.align',\n",
              " 'data/alignments/s1/sgwqzp.align',\n",
              " 'data/alignments/s1/sgwx2n.align',\n",
              " 'data/alignments/s1/sgwx3s.align',\n",
              " 'data/alignments/s1/sgwx4p.align',\n",
              " 'data/alignments/s1/sgwx5a.align',\n",
              " 'data/alignments/s1/srab1s.align',\n",
              " 'data/alignments/s1/srab2p.align',\n",
              " 'data/alignments/s1/srab3a.align',\n",
              " 'data/alignments/s1/srabzn.align',\n",
              " 'data/alignments/s1/srah4n.align',\n",
              " 'data/alignments/s1/srah5s.align',\n",
              " 'data/alignments/s1/srah6p.align',\n",
              " 'data/alignments/s1/srah7a.align',\n",
              " 'data/alignments/s1/sran8n.align',\n",
              " 'data/alignments/s1/sran9s.align',\n",
              " 'data/alignments/s1/srao1a.align',\n",
              " 'data/alignments/s1/sraozp.align',\n",
              " 'data/alignments/s1/srau2n.align',\n",
              " 'data/alignments/s1/srau3s.align',\n",
              " 'data/alignments/s1/srau4p.align',\n",
              " 'data/alignments/s1/srau5a.align',\n",
              " 'data/alignments/s1/srbb4n.align',\n",
              " 'data/alignments/s1/srbb5s.align',\n",
              " 'data/alignments/s1/srbb6p.align',\n",
              " 'data/alignments/s1/srbb7a.align',\n",
              " 'data/alignments/s1/srbh8n.align',\n",
              " 'data/alignments/s1/srbh9s.align',\n",
              " 'data/alignments/s1/srbi1a.align',\n",
              " 'data/alignments/s1/srbizp.align',\n",
              " 'data/alignments/s1/srbo2n.align',\n",
              " 'data/alignments/s1/srbo3s.align',\n",
              " 'data/alignments/s1/srbo4p.align',\n",
              " 'data/alignments/s1/srbo5a.align',\n",
              " 'data/alignments/s1/srbu6n.align',\n",
              " 'data/alignments/s1/srbu7s.align',\n",
              " 'data/alignments/s1/srbu8p.align',\n",
              " 'data/alignments/s1/srbu9a.align',\n",
              " 'data/alignments/s1/sria6n.align',\n",
              " 'data/alignments/s1/sria7s.align',\n",
              " 'data/alignments/s1/sria8p.align',\n",
              " 'data/alignments/s1/sria9a.align',\n",
              " 'data/alignments/s1/srih1s.align',\n",
              " 'data/alignments/s1/srih2p.align',\n",
              " 'data/alignments/s1/srih3a.align',\n",
              " 'data/alignments/s1/srihzn.align',\n",
              " 'data/alignments/s1/srin4n.align',\n",
              " 'data/alignments/s1/srin5s.align',\n",
              " 'data/alignments/s1/srin6p.align',\n",
              " 'data/alignments/s1/srin7a.align',\n",
              " 'data/alignments/s1/srit8n.align',\n",
              " 'data/alignments/s1/srit9s.align',\n",
              " 'data/alignments/s1/sriu1a.align',\n",
              " 'data/alignments/s1/sriuzp.align',\n",
              " 'data/alignments/s1/srwb8n.align',\n",
              " 'data/alignments/s1/srwb9s.align',\n",
              " 'data/alignments/s1/srwc1a.align',\n",
              " 'data/alignments/s1/srwczp.align',\n",
              " 'data/alignments/s1/srwi2n.align',\n",
              " 'data/alignments/s1/srwi3s.align',\n",
              " 'data/alignments/s1/srwi4p.align',\n",
              " 'data/alignments/s1/srwi5a.align',\n",
              " 'data/alignments/s1/srwo6n.align',\n",
              " 'data/alignments/s1/srwo7s.align',\n",
              " 'data/alignments/s1/srwo8p.align',\n",
              " 'data/alignments/s1/srwo9a.align',\n",
              " 'data/alignments/s1/srwv1s.align',\n",
              " 'data/alignments/s1/srwv2p.align',\n",
              " 'data/alignments/s1/srwv3a.align',\n",
              " 'data/alignments/s1/srwvzn.align',\n",
              " 'data/alignments/s1/swab6n.align',\n",
              " 'data/alignments/s1/swab7s.align',\n",
              " 'data/alignments/s1/swab8p.align',\n",
              " 'data/alignments/s1/swab9a.align',\n",
              " 'data/alignments/s1/swai1s.align',\n",
              " 'data/alignments/s1/swai2p.align',\n",
              " 'data/alignments/s1/swai3a.align',\n",
              " 'data/alignments/s1/swaizn.align',\n",
              " 'data/alignments/s1/swao4n.align',\n",
              " 'data/alignments/s1/swao5s.align',\n",
              " 'data/alignments/s1/swao6p.align',\n",
              " 'data/alignments/s1/swao7a.align',\n",
              " 'data/alignments/s1/swau8n.align',\n",
              " 'data/alignments/s1/swau9s.align',\n",
              " 'data/alignments/s1/swav1a.align',\n",
              " 'data/alignments/s1/swavzp.align',\n",
              " 'data/alignments/s1/swbc1s.align',\n",
              " 'data/alignments/s1/swbc2p.align',\n",
              " 'data/alignments/s1/swbc3a.align',\n",
              " 'data/alignments/s1/swbczn.align',\n",
              " 'data/alignments/s1/swbi4n.align',\n",
              " 'data/alignments/s1/swbi5s.align',\n",
              " 'data/alignments/s1/swbi6p.align',\n",
              " 'data/alignments/s1/swbi7a.align',\n",
              " 'data/alignments/s1/swbo8n.align',\n",
              " 'data/alignments/s1/swbo9s.align',\n",
              " 'data/alignments/s1/swbp1a.align',\n",
              " 'data/alignments/s1/swbpzp.align',\n",
              " 'data/alignments/s1/swbv2n.align',\n",
              " 'data/alignments/s1/swbv3s.align',\n",
              " 'data/alignments/s1/swbv4p.align',\n",
              " 'data/alignments/s1/swbv5a.align',\n",
              " 'data/alignments/s1/swib2n.align',\n",
              " 'data/alignments/s1/swib3s.align',\n",
              " 'data/alignments/s1/swib4p.align',\n",
              " 'data/alignments/s1/swib5a.align',\n",
              " 'data/alignments/s1/swih6n.align',\n",
              " 'data/alignments/s1/swih7s.align',\n",
              " 'data/alignments/s1/swih8p.align',\n",
              " 'data/alignments/s1/swih9a.align',\n",
              " 'data/alignments/s1/swio1s.align',\n",
              " 'data/alignments/s1/swio2p.align',\n",
              " 'data/alignments/s1/swio3a.align',\n",
              " 'data/alignments/s1/swiozn.align',\n",
              " 'data/alignments/s1/swiu4n.align',\n",
              " 'data/alignments/s1/swiu5s.align',\n",
              " 'data/alignments/s1/swiu6p.align',\n",
              " 'data/alignments/s1/swiu7a.align',\n",
              " 'data/alignments/s1/swwc4n.align',\n",
              " 'data/alignments/s1/swwc5s.align',\n",
              " 'data/alignments/s1/swwc6p.align',\n",
              " 'data/alignments/s1/swwc7a.align',\n",
              " 'data/alignments/s1/swwi8n.align',\n",
              " 'data/alignments/s1/swwi9s.align',\n",
              " 'data/alignments/s1/swwj1a.align',\n",
              " 'data/alignments/s1/swwjzp.align',\n",
              " 'data/alignments/s1/swwp2n.align',\n",
              " 'data/alignments/s1/swwp3s.align',\n",
              " 'data/alignments/s1/swwp4p.align',\n",
              " 'data/alignments/s1/swwp5a.align',\n",
              " 'data/alignments/s1/swwv6n.align',\n",
              " ...]"
            ]
          },
          "execution_count": 6,
          "metadata": {},
          "output_type": "execute_result"
        }
      ],
      "source": [
        "url = 'https://drive.google.com/uc?id=1YlvpDLix3S-U8fd-gqRwPcWXAXm8JwjL'\n",
        "output = 'data.zip'\n",
        "gdown.download(url, output, quiet=False)\n",
        "gdown.extractall('data.zip')"
      ]
    },
    {
      "cell_type": "code",
      "execution_count": 7,
      "id": "8548cc59-6dfc-4acc-abc3-3e65212db02e",
      "metadata": {
        "id": "8548cc59-6dfc-4acc-abc3-3e65212db02e",
        "tags": []
      },
      "outputs": [],
      "source": [
        "def load_video(path:str) -> List[float]:\n",
        "\n",
        "    cap = cv2.VideoCapture(path)\n",
        "    frames = []\n",
        "    for _ in range(int(cap.get(cv2.CAP_PROP_FRAME_COUNT))):\n",
        "        ret, frame = cap.read()\n",
        "        frame = tf.image.rgb_to_grayscale(frame)\n",
        "        frames.append(frame[190:236,80:220,:])\n",
        "    cap.release()\n",
        "\n",
        "    mean = tf.math.reduce_mean(frames)\n",
        "    std = tf.math.reduce_std(tf.cast(frames, tf.float32))\n",
        "    return tf.cast((frames - mean), tf.float32) / std"
      ]
    },
    {
      "cell_type": "code",
      "execution_count": 8,
      "id": "ec735e0b-ec98-4eb0-8f49-c35527d6670a",
      "metadata": {
        "id": "ec735e0b-ec98-4eb0-8f49-c35527d6670a",
        "tags": []
      },
      "outputs": [],
      "source": [
        "vocab = [x for x in \"abcdefghijklmnopqrstuvwxyz'?!123456789 \"]"
      ]
    },
    {
      "cell_type": "code",
      "execution_count": 9,
      "id": "be04e972-d7a5-4a72-82d8-a6bdde1f3ce6",
      "metadata": {
        "colab": {
          "base_uri": "https://localhost:8080/"
        },
        "id": "be04e972-d7a5-4a72-82d8-a6bdde1f3ce6",
        "outputId": "2333c674-8d44-4b2e-c39f-f06a1edfbedf",
        "tags": []
      },
      "outputs": [
        {
          "name": "stdout",
          "output_type": "stream",
          "text": [
            "The vocabulary is: ['', 'a', 'b', 'c', 'd', 'e', 'f', 'g', 'h', 'i', 'j', 'k', 'l', 'm', 'n', 'o', 'p', 'q', 'r', 's', 't', 'u', 'v', 'w', 'x', 'y', 'z', \"'\", '?', '!', '1', '2', '3', '4', '5', '6', '7', '8', '9', ' '] (size = 40)\n"
          ]
        }
      ],
      "source": [
        "\n",
        "char_to_num = tf.keras.layers.StringLookup(vocabulary=vocab, oov_token=\"\")\n",
        "num_to_char = tf.keras.layers.StringLookup(\n",
        "    vocabulary=char_to_num.get_vocabulary(), oov_token=\"\", invert=True\n",
        ")\n",
        "\n",
        "print(\n",
        "    f\"The vocabulary is: {char_to_num.get_vocabulary()} \"\n",
        "    f\"(size = {char_to_num.vocabulary_size()})\"\n",
        ")"
      ]
    },
    {
      "cell_type": "code",
      "execution_count": 10,
      "id": "559f7420-6802-45fa-9ca0-b1ff209b461c",
      "metadata": {
        "colab": {
          "base_uri": "https://localhost:8080/"
        },
        "id": "559f7420-6802-45fa-9ca0-b1ff209b461c",
        "outputId": "dd15916b-2844-475b-90a1-b99bb16b40f7",
        "tags": []
      },
      "outputs": [
        {
          "data": {
            "text/plain": [
              "['',\n",
              " 'a',\n",
              " 'b',\n",
              " 'c',\n",
              " 'd',\n",
              " 'e',\n",
              " 'f',\n",
              " 'g',\n",
              " 'h',\n",
              " 'i',\n",
              " 'j',\n",
              " 'k',\n",
              " 'l',\n",
              " 'm',\n",
              " 'n',\n",
              " 'o',\n",
              " 'p',\n",
              " 'q',\n",
              " 'r',\n",
              " 's',\n",
              " 't',\n",
              " 'u',\n",
              " 'v',\n",
              " 'w',\n",
              " 'x',\n",
              " 'y',\n",
              " 'z',\n",
              " \"'\",\n",
              " '?',\n",
              " '!',\n",
              " '1',\n",
              " '2',\n",
              " '3',\n",
              " '4',\n",
              " '5',\n",
              " '6',\n",
              " '7',\n",
              " '8',\n",
              " '9',\n",
              " ' ']"
            ]
          },
          "execution_count": 10,
          "metadata": {},
          "output_type": "execute_result"
        }
      ],
      "source": [
        "char_to_num.get_vocabulary()"
      ]
    },
    {
      "cell_type": "code",
      "execution_count": 11,
      "id": "797ff78b-b48f-4e14-bb62-8cd0ebf9501a",
      "metadata": {
        "colab": {
          "base_uri": "https://localhost:8080/"
        },
        "id": "797ff78b-b48f-4e14-bb62-8cd0ebf9501a",
        "outputId": "2aee146a-c781-4536-a10d-53539e662034",
        "tags": []
      },
      "outputs": [
        {
          "data": {
            "text/plain": [
              "<tf.Tensor: shape=(3,), dtype=int64, numpy=array([12,  9, 16])>"
            ]
          },
          "execution_count": 11,
          "metadata": {},
          "output_type": "execute_result"
        }
      ],
      "source": [
        "char_to_num(['l','i','p'])"
      ]
    },
    {
      "cell_type": "code",
      "execution_count": 12,
      "id": "8cd7f4f4-ae77-4509-a4f4-c723787ebad1",
      "metadata": {
        "colab": {
          "base_uri": "https://localhost:8080/"
        },
        "id": "8cd7f4f4-ae77-4509-a4f4-c723787ebad1",
        "outputId": "14259d9f-41c8-40ec-fe5c-8dc4900cff1e"
      },
      "outputs": [
        {
          "data": {
            "text/plain": [
              "<tf.Tensor: shape=(3,), dtype=string, numpy=array([b'l', b'i', b'p'], dtype=object)>"
            ]
          },
          "execution_count": 12,
          "metadata": {},
          "output_type": "execute_result"
        }
      ],
      "source": [
        "num_to_char([12,  9,  16])"
      ]
    },
    {
      "cell_type": "code",
      "execution_count": 13,
      "id": "9491bab5-6a3c-4f79-879a-8f9fbe73ae2e",
      "metadata": {
        "id": "9491bab5-6a3c-4f79-879a-8f9fbe73ae2e",
        "tags": []
      },
      "outputs": [],
      "source": [
        "def load_alignments(path:str) -> List[str]:\n",
        "    with open(path, 'r') as f:\n",
        "        lines = f.readlines()\n",
        "    tokens = []\n",
        "    for line in lines:\n",
        "        line = line.split()\n",
        "        if line[2] != 'sil':\n",
        "            tokens = [*tokens,' ',line[2]]\n",
        "    return char_to_num(tf.reshape(tf.strings.unicode_split(tokens, input_encoding='UTF-8'), (-1)))[1:]"
      ]
    },
    {
      "cell_type": "code",
      "execution_count": 14,
      "id": "dd01ca9f-77fb-4643-a2aa-47dd82c5d66b",
      "metadata": {
        "id": "dd01ca9f-77fb-4643-a2aa-47dd82c5d66b",
        "tags": []
      },
      "outputs": [],
      "source": [
        "def load_data(path: str):\n",
        "    path = bytes.decode(path.numpy())\n",
        "    # Replace backslashes with forward slashes for consistency\n",
        "    path = path.replace('\\\\', '/')\n",
        "    #file_name = path.split('/')[-1].split('.')[0]\n",
        "    # File name splitting for windows\n",
        "    file_name = path.split('/')[-1].split('.')[0]\n",
        "    video_path = os.path.join('data','s1',f'{file_name}.mpg')\n",
        "    alignment_path = os.path.join('data','alignments','s1',f'{file_name}.align')\n",
        "    frames = load_video(video_path)\n",
        "    alignments = load_alignments(alignment_path)\n",
        "\n",
        "    return frames, alignments"
      ]
    },
    {
      "cell_type": "code",
      "execution_count": 15,
      "id": "8cb7cc58-31ae-4904-a805-1177a82717d2",
      "metadata": {
        "id": "8cb7cc58-31ae-4904-a805-1177a82717d2",
        "tags": []
      },
      "outputs": [],
      "source": [
        "test_path = '.\\\\data\\\\s1\\\\bbal6n.mpg'"
      ]
    },
    {
      "cell_type": "code",
      "execution_count": 16,
      "id": "76aa964f-0c84-490d-897a-d00e3966e2c9",
      "metadata": {
        "colab": {
          "base_uri": "https://localhost:8080/",
          "height": 35
        },
        "id": "76aa964f-0c84-490d-897a-d00e3966e2c9",
        "outputId": "761d9f8a-b0fa-4829-8657-97b5626f3c02"
      },
      "outputs": [
        {
          "data": {
            "application/vnd.google.colaboratory.intrinsic+json": {
              "type": "string"
            },
            "text/plain": [
              "'bbal6n'"
            ]
          },
          "execution_count": 16,
          "metadata": {},
          "output_type": "execute_result"
        }
      ],
      "source": [
        "tf.convert_to_tensor(test_path).numpy().decode('utf-8').split('\\\\')[-1].split('.')[0]"
      ]
    },
    {
      "cell_type": "code",
      "execution_count": 17,
      "id": "eb602c71-8560-4f9e-b26b-08202febb937",
      "metadata": {
        "id": "eb602c71-8560-4f9e-b26b-08202febb937",
        "scrolled": true,
        "tags": []
      },
      "outputs": [],
      "source": [
        "frames, alignments = load_data(tf.convert_to_tensor(test_path))"
      ]
    },
    {
      "cell_type": "code",
      "execution_count": 18,
      "id": "0e3184a1-6b02-4b4f-84a8-a0a65f951ea2",
      "metadata": {
        "colab": {
          "base_uri": "https://localhost:8080/",
          "height": 244
        },
        "id": "0e3184a1-6b02-4b4f-84a8-a0a65f951ea2",
        "outputId": "ddf43542-02fd-42b8-e020-25b74029ae62"
      },
      "outputs": [
        {
          "data": {
            "text/plain": [
              "<matplotlib.image.AxesImage at 0x7ea640d73510>"
            ]
          },
          "execution_count": 18,
          "metadata": {},
          "output_type": "execute_result"
        },
        {
          "data": {
            "image/png": "[encoded data removed]",
            "text/plain": [
              "<Figure size 640x480 with 1 Axes>"
            ]
          },
          "metadata": {},
          "output_type": "display_data"
        }
      ],
      "source": [
        "plt.imshow(frames[40])"
      ]
    },
    {
      "cell_type": "code",
      "execution_count": 19,
      "id": "d7ec0833-d54b-4073-84cf-92d011c60ec1",
      "metadata": {
        "colab": {
          "base_uri": "https://localhost:8080/"
        },
        "id": "d7ec0833-d54b-4073-84cf-92d011c60ec1",
        "outputId": "30769750-c936-4060-c06a-c0779239a1b6"
      },
      "outputs": [
        {
          "data": {
            "text/plain": [
              "<tf.Tensor: shape=(21,), dtype=int64, numpy=\n",
              "array([ 2,  9, 14, 39,  2, 12, 21,  5, 39,  1, 20, 39, 12, 39, 19,  9, 24,\n",
              "       39, 14, 15, 23])>"
            ]
          },
          "execution_count": 19,
          "metadata": {},
          "output_type": "execute_result"
        }
      ],
      "source": [
        "alignments"
      ]
    },
    {
      "cell_type": "code",
      "execution_count": 20,
      "id": "fe1ad370-b287-4b46-85a2-7c45b0bd9b10",
      "metadata": {
        "colab": {
          "base_uri": "https://localhost:8080/"
        },
        "id": "fe1ad370-b287-4b46-85a2-7c45b0bd9b10",
        "outputId": "acf55f12-d9b2-4c41-8c8c-43da17e16667"
      },
      "outputs": [
        {
          "data": {
            "text/plain": [
              "<tf.Tensor: shape=(), dtype=string, numpy=b'bin blue at l six now'>"
            ]
          },
          "execution_count": 20,
          "metadata": {},
          "output_type": "execute_result"
        }
      ],
      "source": [
        "tf.strings.reduce_join([bytes.decode(x) for x in num_to_char(alignments.numpy()).numpy()])"
      ]
    },
    {
      "cell_type": "code",
      "execution_count": 21,
      "id": "6871031a-b0ba-4c76-a852-f6329b0f2606",
      "metadata": {
        "id": "6871031a-b0ba-4c76-a852-f6329b0f2606",
        "tags": []
      },
      "outputs": [],
      "source": [
        "def mappable_function(path:str) ->List[str]:\n",
        "    result = tf.py_function(load_data, [path], (tf.float32, tf.int64))\n",
        "    return result"
      ]
    },
    {
      "cell_type": "markdown",
      "id": "c40a7eb4-0c3e-4eab-9291-5611cb68ce08",
      "metadata": {
        "id": "c40a7eb4-0c3e-4eab-9291-5611cb68ce08",
        "tags": []
      },
      "source": [
        "## Create Data Pipeline"
      ]
    },
    {
      "cell_type": "code",
      "execution_count": 22,
      "id": "7686355d-45aa-4c85-ad9c-053e6a9b4d81",
      "metadata": {
        "id": "7686355d-45aa-4c85-ad9c-053e6a9b4d81",
        "tags": []
      },
      "outputs": [],
      "source": [
        "from matplotlib import pyplot as plt"
      ]
    },
    {
      "cell_type": "code",
      "execution_count": 23,
      "id": "f066fea2-91b1-42ed-a67d-00566a1a53ff",
      "metadata": {
        "id": "f066fea2-91b1-42ed-a67d-00566a1a53ff",
        "tags": []
      },
      "outputs": [],
      "source": [
        "data = tf.data.Dataset.list_files('./data/s1/*.mpg')\n",
        "data = data.shuffle(500, reshuffle_each_iteration=False)\n",
        "data = data.map(mappable_function)\n",
        "data = data.padded_batch(2, padded_shapes=([75,None,None,None],[40]))\n",
        "data = data.prefetch(tf.data.AUTOTUNE)\n",
        "# Added for split\n",
        "train = data.take(450)\n",
        "test = data.skip(450)"
      ]
    },
    {
      "cell_type": "code",
      "execution_count": 24,
      "id": "6b1365bd-7742-41d1-95d4-247021751c3a",
      "metadata": {
        "colab": {
          "base_uri": "https://localhost:8080/"
        },
        "id": "6b1365bd-7742-41d1-95d4-247021751c3a",
        "outputId": "f8d5537f-c271-4427-f69a-df840b8a4c13"
      },
      "outputs": [
        {
          "data": {
            "text/plain": [
              "50"
            ]
          },
          "execution_count": 24,
          "metadata": {},
          "output_type": "execute_result"
        }
      ],
      "source": [
        "len(test)"
      ]
    },
    {
      "cell_type": "code",
      "execution_count": 25,
      "id": "5281bde8-fdc8-4da1-bd55-5a7929a9e80c",
      "metadata": {
        "id": "5281bde8-fdc8-4da1-bd55-5a7929a9e80c"
      },
      "outputs": [],
      "source": [
        "frames, alignments = data.as_numpy_iterator().next()"
      ]
    },
    {
      "cell_type": "code",
      "execution_count": 26,
      "id": "cbebe683-6afd-47fd-bba4-c83b4b13bb32",
      "metadata": {
        "colab": {
          "base_uri": "https://localhost:8080/"
        },
        "id": "cbebe683-6afd-47fd-bba4-c83b4b13bb32",
        "outputId": "f127e5db-6129-426b-d8e5-fc4950c444db"
      },
      "outputs": [
        {
          "data": {
            "text/plain": [
              "2"
            ]
          },
          "execution_count": 26,
          "metadata": {},
          "output_type": "execute_result"
        }
      ],
      "source": [
        "len(frames)"
      ]
    },
    {
      "cell_type": "code",
      "execution_count": 27,
      "id": "5cf2d676-93a9-434c-b3c7-bdcc2577b2e7",
      "metadata": {
        "id": "5cf2d676-93a9-434c-b3c7-bdcc2577b2e7",
        "tags": []
      },
      "outputs": [],
      "source": [
        "sample = data.as_numpy_iterator()"
      ]
    },
    {
      "cell_type": "code",
      "execution_count": 28,
      "id": "efa6cd46-7079-46c0-b45b-832f339f6cb0",
      "metadata": {
        "colab": {
          "base_uri": "https://localhost:8080/"
        },
        "id": "efa6cd46-7079-46c0-b45b-832f339f6cb0",
        "outputId": "2cbec6a2-4930-484b-d1ea-8bd1f52889b9",
        "scrolled": true,
        "tags": []
      },
      "outputs": [
        {
          "data": {
            "text/plain": [
              "array([[[[[ 1.3584079 ],\n",
              "          [ 1.3584079 ],\n",
              "          [ 1.3972195 ],\n",
              "          ...,\n",
              "          [ 9.353608  ],\n",
              "          [ 0.        ],\n",
              "          [ 9.896972  ]],\n",
              "\n",
              "         [[ 1.3584079 ],\n",
              "          [ 1.3584079 ],\n",
              "          [ 1.3972195 ],\n",
              "          ...,\n",
              "          [ 9.353608  ],\n",
              "          [ 0.07762331],\n",
              "          [ 9.819348  ]],\n",
              "\n",
              "         [[ 1.4360312 ],\n",
              "          [ 1.4360312 ],\n",
              "          [ 1.4360312 ],\n",
              "          ...,\n",
              "          [ 9.780537  ],\n",
              "          [ 0.23286992],\n",
              "          [ 0.23286992]],\n",
              "\n",
              "         ...,\n",
              "\n",
              "         [[ 0.9314797 ],\n",
              "          [ 0.9314797 ],\n",
              "          [ 0.9314797 ],\n",
              "          ...,\n",
              "          [ 9.85816   ],\n",
              "          [ 9.896972  ],\n",
              "          [ 9.896972  ]],\n",
              "\n",
              "         [[ 0.9314797 ],\n",
              "          [ 0.9314797 ],\n",
              "          [ 0.9314797 ],\n",
              "          ...,\n",
              "          [ 9.819348  ],\n",
              "          [ 9.85816   ],\n",
              "          [ 9.85816   ]],\n",
              "\n",
              "         [[ 0.9314797 ],\n",
              "          [ 0.9314797 ],\n",
              "          [ 0.9314797 ],\n",
              "          ...,\n",
              "          [ 9.819348  ],\n",
              "          [ 9.85816   ],\n",
              "          [ 9.85816   ]]],\n",
              "\n",
              "\n",
              "        [[[ 1.3972195 ],\n",
              "          [ 1.3972195 ],\n",
              "          [ 1.4360312 ],\n",
              "          ...,\n",
              "          [ 9.353608  ],\n",
              "          [ 9.819348  ],\n",
              "          [ 9.819348  ]],\n",
              "\n",
              "         [[ 1.3972195 ],\n",
              "          [ 1.3972195 ],\n",
              "          [ 1.4360312 ],\n",
              "          ...,\n",
              "          [ 9.508855  ],\n",
              "          [ 9.896972  ],\n",
              "          [ 9.780537  ]],\n",
              "\n",
              "         [[ 1.3584079 ],\n",
              "          [ 1.3584079 ],\n",
              "          [ 1.3195962 ],\n",
              "          ...,\n",
              "          [ 9.85816   ],\n",
              "          [ 0.15524662],\n",
              "          [ 0.15524662]],\n",
              "\n",
              "         ...,\n",
              "\n",
              "         [[ 0.9314797 ],\n",
              "          [ 0.9314797 ],\n",
              "          [ 0.9314797 ],\n",
              "          ...,\n",
              "          [ 9.819348  ],\n",
              "          [ 9.819348  ],\n",
              "          [ 9.819348  ]],\n",
              "\n",
              "         [[ 0.9314797 ],\n",
              "          [ 0.9314797 ],\n",
              "          [ 0.9314797 ],\n",
              "          ...,\n",
              "          [ 9.819348  ],\n",
              "          [ 9.780537  ],\n",
              "          [ 9.780537  ]],\n",
              "\n",
              "         [[ 0.9314797 ],\n",
              "          [ 0.9314797 ],\n",
              "          [ 0.9314797 ],\n",
              "          ...,\n",
              "          [ 9.819348  ],\n",
              "          [ 9.780537  ],\n",
              "          [ 9.780537  ]]],\n",
              "\n",
              "\n",
              "        [[[ 1.4360312 ],\n",
              "          [ 1.4360312 ],\n",
              "          [ 1.4360312 ],\n",
              "          ...,\n",
              "          [ 9.39242   ],\n",
              "          [ 0.        ],\n",
              "          [ 0.        ]],\n",
              "\n",
              "         [[ 1.4360312 ],\n",
              "          [ 1.4360312 ],\n",
              "          [ 1.4360312 ],\n",
              "          ...,\n",
              "          [ 9.547667  ],\n",
              "          [ 0.03881165],\n",
              "          [ 9.819348  ]],\n",
              "\n",
              "         [[ 1.3195962 ],\n",
              "          [ 1.3195962 ],\n",
              "          [ 1.3195962 ],\n",
              "          ...,\n",
              "          [ 9.85816   ],\n",
              "          [ 0.15524662],\n",
              "          [ 0.15524662]],\n",
              "\n",
              "         ...,\n",
              "\n",
              "         [[ 0.9314797 ],\n",
              "          [ 0.9314797 ],\n",
              "          [ 0.9314797 ],\n",
              "          ...,\n",
              "          [ 9.85816   ],\n",
              "          [ 9.85816   ],\n",
              "          [ 9.85816   ]],\n",
              "\n",
              "         [[ 0.9314797 ],\n",
              "          [ 0.9314797 ],\n",
              "          [ 0.9314797 ],\n",
              "          ...,\n",
              "          [ 9.819348  ],\n",
              "          [ 9.819348  ],\n",
              "          [ 9.819348  ]],\n",
              "\n",
              "         [[ 0.9314797 ],\n",
              "          [ 0.9314797 ],\n",
              "          [ 0.9314797 ],\n",
              "          ...,\n",
              "          [ 9.819348  ],\n",
              "          [ 9.819348  ],\n",
              "          [ 9.819348  ]]],\n",
              "\n",
              "\n",
              "        ...,\n",
              "\n",
              "\n",
              "        [[[ 1.4360312 ],\n",
              "          [ 1.4360312 ],\n",
              "          [ 1.4360312 ],\n",
              "          ...,\n",
              "          [ 9.159551  ],\n",
              "          [ 9.702913  ],\n",
              "          [ 9.896972  ]],\n",
              "\n",
              "         [[ 1.4360312 ],\n",
              "          [ 1.4360312 ],\n",
              "          [ 1.4360312 ],\n",
              "          ...,\n",
              "          [ 9.120739  ],\n",
              "          [ 9.819348  ],\n",
              "          [ 9.896972  ]],\n",
              "\n",
              "         [[ 1.4360312 ],\n",
              "          [ 1.4360312 ],\n",
              "          [ 1.3972195 ],\n",
              "          ...,\n",
              "          [ 9.586478  ],\n",
              "          [ 0.        ],\n",
              "          [ 0.        ]],\n",
              "\n",
              "         ...,\n",
              "\n",
              "         [[ 0.9702913 ],\n",
              "          [ 0.9314797 ],\n",
              "          [ 0.9314797 ],\n",
              "          ...,\n",
              "          [ 0.        ],\n",
              "          [ 9.896972  ],\n",
              "          [ 9.896972  ]],\n",
              "\n",
              "         [[ 0.9702913 ],\n",
              "          [ 0.9314797 ],\n",
              "          [ 0.9314797 ],\n",
              "          ...,\n",
              "          [ 0.        ],\n",
              "          [ 0.        ],\n",
              "          [ 0.        ]],\n",
              "\n",
              "         [[ 0.9702913 ],\n",
              "          [ 0.9314797 ],\n",
              "          [ 0.9314797 ],\n",
              "          ...,\n",
              "          [ 0.        ],\n",
              "          [ 0.        ],\n",
              "          [ 9.896972  ]]],\n",
              "\n",
              "\n",
              "        [[[ 1.4748428 ],\n",
              "          [ 1.4748428 ],\n",
              "          [ 1.4748428 ],\n",
              "          ...,\n",
              "          [ 9.004304  ],\n",
              "          [ 9.896972  ],\n",
              "          [ 9.896972  ]],\n",
              "\n",
              "         [[ 1.4748428 ],\n",
              "          [ 1.4748428 ],\n",
              "          [ 1.4748428 ],\n",
              "          ...,\n",
              "          [ 9.198362  ],\n",
              "          [ 9.896972  ],\n",
              "          [ 9.896972  ]],\n",
              "\n",
              "         [[ 1.4748428 ],\n",
              "          [ 1.4748428 ],\n",
              "          [ 1.3972195 ],\n",
              "          ...,\n",
              "          [ 9.741725  ],\n",
              "          [ 0.07762331],\n",
              "          [ 0.11643496]],\n",
              "\n",
              "         ...,\n",
              "\n",
              "         [[ 0.9702913 ],\n",
              "          [ 0.9314797 ],\n",
              "          [ 0.9314797 ],\n",
              "          ...,\n",
              "          [ 0.03881165],\n",
              "          [ 9.896972  ],\n",
              "          [ 9.896972  ]],\n",
              "\n",
              "         [[ 0.9702913 ],\n",
              "          [ 0.9314797 ],\n",
              "          [ 0.9314797 ],\n",
              "          ...,\n",
              "          [ 0.        ],\n",
              "          [ 0.        ],\n",
              "          [ 0.        ]],\n",
              "\n",
              "         [[ 0.9702913 ],\n",
              "          [ 0.9314797 ],\n",
              "          [ 0.9314797 ],\n",
              "          ...,\n",
              "          [ 0.        ],\n",
              "          [ 0.        ],\n",
              "          [ 0.        ]]],\n",
              "\n",
              "\n",
              "        [[[ 1.4360312 ],\n",
              "          [ 1.4360312 ],\n",
              "          [ 1.4360312 ],\n",
              "          ...,\n",
              "          [ 9.004304  ],\n",
              "          [ 9.85816   ],\n",
              "          [ 9.85816   ]],\n",
              "\n",
              "         [[ 1.4360312 ],\n",
              "          [ 1.4360312 ],\n",
              "          [ 1.4360312 ],\n",
              "          ...,\n",
              "          [ 9.198362  ],\n",
              "          [ 9.85816   ],\n",
              "          [ 9.85816   ]],\n",
              "\n",
              "         [[ 1.3584079 ],\n",
              "          [ 1.3584079 ],\n",
              "          [ 1.3584079 ],\n",
              "          ...,\n",
              "          [ 9.664102  ],\n",
              "          [ 0.        ],\n",
              "          [ 0.07762331]],\n",
              "\n",
              "         ...,\n",
              "\n",
              "         [[ 0.9702913 ],\n",
              "          [ 0.9702913 ],\n",
              "          [ 0.9702913 ],\n",
              "          ...,\n",
              "          [ 9.896972  ],\n",
              "          [ 9.85816   ],\n",
              "          [ 9.85816   ]],\n",
              "\n",
              "         [[ 0.9314797 ],\n",
              "          [ 0.9314797 ],\n",
              "          [ 0.9314797 ],\n",
              "          ...,\n",
              "          [ 9.896972  ],\n",
              "          [ 9.896972  ],\n",
              "          [ 9.896972  ]],\n",
              "\n",
              "         [[ 0.9314797 ],\n",
              "          [ 0.9314797 ],\n",
              "          [ 0.9314797 ],\n",
              "          ...,\n",
              "          [ 9.896972  ],\n",
              "          [ 9.896972  ],\n",
              "          [ 9.896972  ]]]],\n",
              "\n",
              "\n",
              "\n",
              "       [[[[ 0.9292996 ],\n",
              "          [ 0.9292996 ],\n",
              "          [ 0.72727793],\n",
              "          ...,\n",
              "          [ 0.32323465],\n",
              "          [ 0.24242598],\n",
              "          [ 0.24242598]],\n",
              "\n",
              "         [[ 0.9292996 ],\n",
              "          [ 0.72727793],\n",
              "          [ 0.20202164],\n",
              "          ...,\n",
              "          [ 0.32323465],\n",
              "          [ 0.24242598],\n",
              "          [ 0.24242598]],\n",
              "\n",
              "         [[ 1.3737472 ],\n",
              "          [ 1.3737472 ],\n",
              "          [ 1.1313212 ],\n",
              "          ...,\n",
              "          [ 0.32323465],\n",
              "          [ 0.24242598],\n",
              "          [ 0.24242598]],\n",
              "\n",
              "         ...,\n",
              "\n",
              "         [[ 1.0909169 ],\n",
              "          [ 1.0909169 ],\n",
              "          [ 1.0909169 ],\n",
              "          ...,\n",
              "          [ 0.        ],\n",
              "          [ 0.        ],\n",
              "          [ 0.        ]],\n",
              "\n",
              "         [[ 1.1313212 ],\n",
              "          [ 1.1313212 ],\n",
              "          [ 1.0909169 ],\n",
              "          ...,\n",
              "          [ 0.        ],\n",
              "          [ 0.        ],\n",
              "          [ 0.        ]],\n",
              "\n",
              "         [[ 1.1313212 ],\n",
              "          [ 1.1313212 ],\n",
              "          [ 1.0909169 ],\n",
              "          ...,\n",
              "          [ 0.        ],\n",
              "          [ 0.        ],\n",
              "          [10.303104  ]]],\n",
              "\n",
              "\n",
              "        [[[ 1.0909169 ],\n",
              "          [ 1.0101082 ],\n",
              "          [ 0.76768225],\n",
              "          ...,\n",
              "          [ 0.24242598],\n",
              "          [ 0.20202164],\n",
              "          [ 0.20202164]],\n",
              "\n",
              "         [[ 1.1313212 ],\n",
              "          [ 0.8888953 ],\n",
              "          [ 0.2828303 ],\n",
              "          ...,\n",
              "          [ 0.24242598],\n",
              "          [ 0.20202164],\n",
              "          [ 0.20202164]],\n",
              "\n",
              "         [[ 1.3737472 ],\n",
              "          [ 1.3737472 ],\n",
              "          [ 1.0505126 ],\n",
              "          ...,\n",
              "          [ 0.24242598],\n",
              "          [ 0.24242598],\n",
              "          [ 0.20202164]],\n",
              "\n",
              "         ...,\n",
              "\n",
              "         [[ 1.0909169 ],\n",
              "          [ 1.0909169 ],\n",
              "          [ 1.0909169 ],\n",
              "          ...,\n",
              "          [ 0.        ],\n",
              "          [ 0.        ],\n",
              "          [10.303104  ]],\n",
              "\n",
              "         [[ 1.0909169 ],\n",
              "          [ 1.0909169 ],\n",
              "          [ 1.0505126 ],\n",
              "          ...,\n",
              "          [ 0.        ],\n",
              "          [10.303104  ],\n",
              "          [10.303104  ]],\n",
              "\n",
              "         [[ 1.0909169 ],\n",
              "          [ 1.0909169 ],\n",
              "          [ 1.0505126 ],\n",
              "          ...,\n",
              "          [10.303104  ],\n",
              "          [10.303104  ],\n",
              "          [10.303104  ]]],\n",
              "\n",
              "\n",
              "        [[[ 1.0505126 ],\n",
              "          [ 1.0505126 ],\n",
              "          [ 0.76768225],\n",
              "          ...,\n",
              "          [ 0.24242598],\n",
              "          [ 0.24242598],\n",
              "          [ 0.20202164]],\n",
              "\n",
              "         [[ 1.1313212 ],\n",
              "          [ 1.0101082 ],\n",
              "          [ 0.32323465],\n",
              "          ...,\n",
              "          [ 0.24242598],\n",
              "          [ 0.24242598],\n",
              "          [ 0.20202164]],\n",
              "\n",
              "         [[ 1.4949602 ],\n",
              "          [ 1.4949602 ],\n",
              "          [ 1.1313212 ],\n",
              "          ...,\n",
              "          [ 0.24242598],\n",
              "          [ 0.20202164],\n",
              "          [ 0.20202164]],\n",
              "\n",
              "         ...,\n",
              "\n",
              "         [[ 1.1313212 ],\n",
              "          [ 1.0909169 ],\n",
              "          [ 1.0505126 ],\n",
              "          ...,\n",
              "          [ 0.        ],\n",
              "          [ 0.        ],\n",
              "          [10.303104  ]],\n",
              "\n",
              "         [[ 1.1313212 ],\n",
              "          [ 1.0909169 ],\n",
              "          [ 1.0505126 ],\n",
              "          ...,\n",
              "          [ 0.        ],\n",
              "          [10.303104  ],\n",
              "          [10.303104  ]],\n",
              "\n",
              "         [[ 1.1313212 ],\n",
              "          [ 1.0909169 ],\n",
              "          [ 1.0505126 ],\n",
              "          ...,\n",
              "          [10.303104  ],\n",
              "          [10.303104  ],\n",
              "          [10.303104  ]]],\n",
              "\n",
              "\n",
              "        ...,\n",
              "\n",
              "\n",
              "        [[[ 1.1717255 ],\n",
              "          [ 1.0909169 ],\n",
              "          [ 0.6868736 ],\n",
              "          ...,\n",
              "          [ 0.32323465],\n",
              "          [ 0.32323465],\n",
              "          [ 0.32323465]],\n",
              "\n",
              "         [[ 1.1313212 ],\n",
              "          [ 1.1717255 ],\n",
              "          [ 0.5656606 ],\n",
              "          ...,\n",
              "          [ 0.32323465],\n",
              "          [ 0.32323465],\n",
              "          [ 0.32323465]],\n",
              "\n",
              "         [[ 1.4141515 ],\n",
              "          [ 1.4141515 ],\n",
              "          [ 1.21213   ],\n",
              "          ...,\n",
              "          [ 0.20202164],\n",
              "          [ 0.20202164],\n",
              "          [ 0.16161732]],\n",
              "\n",
              "         ...,\n",
              "\n",
              "         [[ 1.0909169 ],\n",
              "          [ 1.0909169 ],\n",
              "          [ 1.1313212 ],\n",
              "          ...,\n",
              "          [ 0.        ],\n",
              "          [ 0.        ],\n",
              "          [ 0.        ]],\n",
              "\n",
              "         [[ 1.1313212 ],\n",
              "          [ 1.1313212 ],\n",
              "          [ 1.1313212 ],\n",
              "          ...,\n",
              "          [ 0.        ],\n",
              "          [ 0.        ],\n",
              "          [10.303104  ]],\n",
              "\n",
              "         [[ 1.0909169 ],\n",
              "          [ 1.0909169 ],\n",
              "          [ 1.0909169 ],\n",
              "          ...,\n",
              "          [ 0.        ],\n",
              "          [10.303104  ],\n",
              "          [10.303104  ]]],\n",
              "\n",
              "\n",
              "        [[[ 1.2525343 ],\n",
              "          [ 1.0909169 ],\n",
              "          [ 0.6868736 ],\n",
              "          ...,\n",
              "          [ 0.32323465],\n",
              "          [ 0.32323465],\n",
              "          [ 0.32323465]],\n",
              "\n",
              "         [[ 1.21213   ],\n",
              "          [ 1.1313212 ],\n",
              "          [ 0.5252563 ],\n",
              "          ...,\n",
              "          [ 0.32323465],\n",
              "          [ 0.32323465],\n",
              "          [ 0.32323465]],\n",
              "\n",
              "         [[ 1.4545559 ],\n",
              "          [ 1.4545559 ],\n",
              "          [ 1.2929386 ],\n",
              "          ...,\n",
              "          [ 0.24242598],\n",
              "          [ 0.24242598],\n",
              "          [ 0.24242598]],\n",
              "\n",
              "         ...,\n",
              "\n",
              "         [[ 1.0909169 ],\n",
              "          [ 1.0909169 ],\n",
              "          [ 1.1313212 ],\n",
              "          ...,\n",
              "          [ 0.        ],\n",
              "          [ 0.        ],\n",
              "          [ 0.        ]],\n",
              "\n",
              "         [[ 1.1313212 ],\n",
              "          [ 1.1313212 ],\n",
              "          [ 1.1313212 ],\n",
              "          ...,\n",
              "          [ 0.        ],\n",
              "          [ 0.        ],\n",
              "          [ 0.        ]],\n",
              "\n",
              "         [[ 1.0909169 ],\n",
              "          [ 1.0909169 ],\n",
              "          [ 1.0909169 ],\n",
              "          ...,\n",
              "          [ 0.        ],\n",
              "          [ 0.        ],\n",
              "          [10.303104  ]]],\n",
              "\n",
              "\n",
              "        [[[ 1.21213   ],\n",
              "          [ 1.0101082 ],\n",
              "          [ 0.6868736 ],\n",
              "          ...,\n",
              "          [ 0.20202164],\n",
              "          [ 0.16161732],\n",
              "          [ 0.16161732]],\n",
              "\n",
              "         [[ 1.1313212 ],\n",
              "          [ 1.0909169 ],\n",
              "          [ 0.5252563 ],\n",
              "          ...,\n",
              "          [ 0.20202164],\n",
              "          [ 0.20202164],\n",
              "          [ 0.16161732]],\n",
              "\n",
              "         [[ 1.3737472 ],\n",
              "          [ 1.3737472 ],\n",
              "          [ 1.21213   ],\n",
              "          ...,\n",
              "          [ 0.24242598],\n",
              "          [ 0.24242598],\n",
              "          [ 0.20202164]],\n",
              "\n",
              "         ...,\n",
              "\n",
              "         [[ 1.1313212 ],\n",
              "          [ 1.1313212 ],\n",
              "          [ 1.1313212 ],\n",
              "          ...,\n",
              "          [ 0.        ],\n",
              "          [ 0.        ],\n",
              "          [ 0.        ]],\n",
              "\n",
              "         [[ 1.1313212 ],\n",
              "          [ 1.1313212 ],\n",
              "          [ 1.1313212 ],\n",
              "          ...,\n",
              "          [ 0.        ],\n",
              "          [ 0.        ],\n",
              "          [10.303104  ]],\n",
              "\n",
              "         [[ 1.0909169 ],\n",
              "          [ 1.0909169 ],\n",
              "          [ 1.0909169 ],\n",
              "          ...,\n",
              "          [ 0.        ],\n",
              "          [10.303104  ],\n",
              "          [10.303104  ]]]]], dtype=float32)"
            ]
          },
          "execution_count": 28,
          "metadata": {},
          "output_type": "execute_result"
        }
      ],
      "source": [
        "val = sample.next(); val[0]"
      ]
    },
    {
      "cell_type": "code",
      "execution_count": 29,
      "id": "acf5eb4f-a0da-4a9a-bf24-af13e9cc2fbe",
      "metadata": {
        "id": "acf5eb4f-a0da-4a9a-bf24-af13e9cc2fbe",
        "tags": []
      },
      "outputs": [],
      "source": [
        "# Convert frames to uint8 and remove the channel dimension for grayscale\n",
        "frames_to_save = (val[0][0] * 255).astype(np.uint8).squeeze(-1)\n",
        "imageio.mimsave('./animation.gif', frames_to_save, fps=10)"
      ]
    },
    {
      "cell_type": "code",
      "execution_count": 30,
      "id": "c33a87a2-d5e0-4ec9-b174-73ebf41bf03a",
      "metadata": {
        "colab": {
          "base_uri": "https://localhost:8080/",
          "height": 244
        },
        "id": "c33a87a2-d5e0-4ec9-b174-73ebf41bf03a",
        "outputId": "facc5c45-53b1-48f0-b31d-023f090c1589",
        "tags": []
      },
      "outputs": [
        {
          "data": {
            "text/plain": [
              "<matplotlib.image.AxesImage at 0x7ea6406026d0>"
            ]
          },
          "execution_count": 30,
          "metadata": {},
          "output_type": "execute_result"
        },
        {
          "data": {
            "image/png": "[encoded data removed]",
            "text/plain": [
              "<Figure size 640x480 with 1 Axes>"
            ]
          },
          "metadata": {},
          "output_type": "display_data"
        }
      ],
      "source": [
        "# 0:videos, 0: 1st video out of the batch,  0: return the first frame in the video\n",
        "plt.imshow(val[0][0][35])"
      ]
    },
    {
      "cell_type": "code",
      "execution_count": 31,
      "id": "84593332-133c-4205-b7a6-8e235d5e2b3b",
      "metadata": {
        "colab": {
          "base_uri": "https://localhost:8080/"
        },
        "id": "84593332-133c-4205-b7a6-8e235d5e2b3b",
        "outputId": "8155d774-a9bd-4ba9-f44f-9da86e4682bc",
        "tags": []
      },
      "outputs": [
        {
          "data": {
            "text/plain": [
              "<tf.Tensor: shape=(), dtype=string, numpy=b'set red at o one again'>"
            ]
          },
          "execution_count": 31,
          "metadata": {},
          "output_type": "execute_result"
        }
      ],
      "source": [
        "tf.strings.reduce_join([num_to_char(word) for word in val[1][0]])"
      ]
    },
    {
      "cell_type": "markdown",
      "id": "0f47733c-83bc-465c-b118-b198b492ad37",
      "metadata": {
        "id": "0f47733c-83bc-465c-b118-b198b492ad37",
        "tags": []
      },
      "source": [
        "## Design the Deep Neural Network"
      ]
    },
    {
      "cell_type": "code",
      "execution_count": 32,
      "id": "d8e9a497-191b-4842-afbd-26f5e13c43ba",
      "metadata": {
        "id": "d8e9a497-191b-4842-afbd-26f5e13c43ba",
        "tags": []
      },
      "outputs": [],
      "source": [
        "from tensorflow.keras.models import Sequential\n",
        "from tensorflow.keras.layers import Conv3D, LSTM, Dense, Dropout, Bidirectional, MaxPool3D, Activation, Reshape, SpatialDropout3D, BatchNormalization, TimeDistributed, Flatten\n",
        "from tensorflow.keras.optimizers import Adam\n",
        "from tensorflow.keras.callbacks import ModelCheckpoint, LearningRateScheduler"
      ]
    },
    {
      "cell_type": "code",
      "execution_count": 33,
      "id": "3f753ed2-70b9-4236-8c1c-08ca065dc8bf",
      "metadata": {
        "colab": {
          "base_uri": "https://localhost:8080/"
        },
        "id": "3f753ed2-70b9-4236-8c1c-08ca065dc8bf",
        "outputId": "f90478f4-b9f4-416a-f8ef-2d7ccf6ab887"
      },
      "outputs": [
        {
          "data": {
            "text/plain": [
              "(75, 46, 140, 1)"
            ]
          },
          "execution_count": 33,
          "metadata": {},
          "output_type": "execute_result"
        }
      ],
      "source": [
        "data.as_numpy_iterator().next()[0][0].shape"
      ]
    },
    {
      "cell_type": "code",
      "execution_count": 34,
      "id": "f9171056-a352-491a-9ed9-92b28ced268e",
      "metadata": {
        "id": "f9171056-a352-491a-9ed9-92b28ced268e",
        "tags": []
      },
      "outputs": [],
      "source": [
        "model = Sequential()\n",
        "model.add(Conv3D(128, 3, input_shape=(75,46,140,1), padding='same'))\n",
        "model.add(Activation('relu'))\n",
        "model.add(MaxPool3D((1,2,2)))\n",
        "\n",
        "model.add(Conv3D(256, 3, padding='same'))\n",
        "model.add(Activation('relu'))\n",
        "model.add(MaxPool3D((1,2,2)))\n",
        "\n",
        "model.add(Conv3D(75, 3, padding='same'))\n",
        "model.add(Activation('relu'))\n",
        "model.add(MaxPool3D((1,2,2)))\n",
        "\n",
        "model.add(TimeDistributed(Reshape((5*17*75,))))\n",
        "\n",
        "model.add(Bidirectional(LSTM(128, kernel_initializer='Orthogonal', return_sequences=True)))\n",
        "model.add(Dropout(.5))\n",
        "\n",
        "model.add(Bidirectional(LSTM(128, kernel_initializer='Orthogonal', return_sequences=True)))\n",
        "model.add(Dropout(.5))\n",
        "\n",
        "model.add(Dense(char_to_num.vocabulary_size()+1, kernel_initializer='he_normal', activation='softmax'))"
      ]
    },
    {
      "cell_type": "code",
      "execution_count": 35,
      "id": "78851825-2bcd-42a9-b7f2-28bb5a6bf43a",
      "metadata": {
        "colab": {
          "base_uri": "https://localhost:8080/"
        },
        "collapsed": true,
        "id": "78851825-2bcd-42a9-b7f2-28bb5a6bf43a",
        "jupyter": {
          "outputs_hidden": true
        },
        "outputId": "5cefa22e-1045-4b9c-fc99-75dbd1f99a51",
        "tags": []
      },
      "outputs": [
        {
          "name": "stdout",
          "output_type": "stream",
          "text": [
            "Model: \"sequential\"\n",
            "_________________________________________________________________\n",
            " Layer (type)                Output Shape              Param #   \n",
            "=================================================================\n",
            " conv3d (Conv3D)             (None, 75, 46, 140, 128   3584      \n",
            "                             )                                   \n",
            "                                                                 \n",
            " activation (Activation)     (None, 75, 46, 140, 128   0         \n",
            "                             )                                   \n",
            "                                                                 \n",
            " max_pooling3d (MaxPooling3  (None, 75, 23, 70, 128)   0         \n",
            " D)                                                              \n",
            "                                                                 \n",
            " conv3d_1 (Conv3D)           (None, 75, 23, 70, 256)   884992    \n",
            "                                                                 \n",
            " activation_1 (Activation)   (None, 75, 23, 70, 256)   0         \n",
            "                                                                 \n",
            " max_pooling3d_1 (MaxPoolin  (None, 75, 11, 35, 256)   0         \n",
            " g3D)                                                            \n",
            "                                                                 \n",
            " conv3d_2 (Conv3D)           (None, 75, 11, 35, 75)    518475    \n",
            "                                                                 \n",
            " activation_2 (Activation)   (None, 75, 11, 35, 75)    0         \n",
            "                                                                 \n",
            " max_pooling3d_2 (MaxPoolin  (None, 75, 5, 17, 75)     0         \n",
            " g3D)                                                            \n",
            "                                                                 \n",
            " time_distributed (TimeDist  (None, 75, 6375)          0         \n",
            " ributed)                                                        \n",
            "                                                                 \n",
            " bidirectional (Bidirection  (None, 75, 256)           6660096   \n",
            " al)                                                             \n",
            "                                                                 \n",
            " dropout (Dropout)           (None, 75, 256)           0         \n",
            "                                                                 \n",
            " bidirectional_1 (Bidirecti  (None, 75, 256)           394240    \n",
            " onal)                                                           \n",
            "                                                                 \n",
            " dropout_1 (Dropout)         (None, 75, 256)           0         \n",
            "                                                                 \n",
            " dense (Dense)               (None, 75, 41)            10537     \n",
            "                                                                 \n",
            "=================================================================\n",
            "Total params: 8471924 (32.32 MB)\n",
            "Trainable params: 8471924 (32.32 MB)\n",
            "Non-trainable params: 0 (0.00 Byte)\n",
            "_________________________________________________________________\n"
          ]
        }
      ],
      "source": [
        "model.summary()"
      ]
    },
    {
      "cell_type": "code",
      "execution_count": 36,
      "id": "f4b4798c-a65a-4c47-9e2a-3b09dc98d320",
      "metadata": {
        "colab": {
          "base_uri": "https://localhost:8080/"
        },
        "id": "f4b4798c-a65a-4c47-9e2a-3b09dc98d320",
        "outputId": "19e6a96a-73d2-4cc5-d3d0-16dc234188f0"
      },
      "outputs": [
        {
          "data": {
            "text/plain": [
              "6375"
            ]
          },
          "execution_count": 36,
          "metadata": {},
          "output_type": "execute_result"
        }
      ],
      "source": [
        "5*17*75"
      ]
    },
    {
      "cell_type": "code",
      "execution_count": 37,
      "id": "e5c2eae0-c359-41a4-97a0-75c44dccb7d1",
      "metadata": {
        "colab": {
          "base_uri": "https://localhost:8080/"
        },
        "id": "e5c2eae0-c359-41a4-97a0-75c44dccb7d1",
        "outputId": "3665c74e-1f20-471d-c34d-73061f37603e",
        "tags": []
      },
      "outputs": [
        {
          "name": "stdout",
          "output_type": "stream",
          "text": [
            "1/1 [==============================] - 10s 10s/step\n"
          ]
        }
      ],
      "source": [
        "yhat = model.predict(val[0])"
      ]
    },
    {
      "cell_type": "code",
      "execution_count": 38,
      "id": "ffdc7319-0d69-4f7e-a6d4-ce72deb81c0b",
      "metadata": {
        "colab": {
          "base_uri": "https://localhost:8080/"
        },
        "id": "ffdc7319-0d69-4f7e-a6d4-ce72deb81c0b",
        "outputId": "03cb5a4a-91b3-4d4f-d08e-a8a041e972d3"
      },
      "outputs": [
        {
          "data": {
            "text/plain": [
              "<tf.Tensor: shape=(), dtype=string, numpy=b'aaaaaaaaaaaaaaaaaaaaaaaaaaaaaaaaaaaaa555555555aa5aaaaaaaaaaaaaaaaaaaaaaazzz'>"
            ]
          },
          "execution_count": 38,
          "metadata": {},
          "output_type": "execute_result"
        }
      ],
      "source": [
        "tf.strings.reduce_join([num_to_char(x) for x in tf.argmax(yhat[0],axis=1)])"
      ]
    },
    {
      "cell_type": "code",
      "execution_count": 39,
      "id": "6ed47531-8317-4255-9a12-b757642258e6",
      "metadata": {
        "colab": {
          "base_uri": "https://localhost:8080/"
        },
        "id": "6ed47531-8317-4255-9a12-b757642258e6",
        "outputId": "f8d6cc03-d523-41d7-d372-e5778198bd7f",
        "tags": []
      },
      "outputs": [
        {
          "data": {
            "text/plain": [
              "<tf.Tensor: shape=(), dtype=string, numpy=b'aaaaaaaaaaaaaaaaaaaaaaaaaaaaaaaaaaaaa555555555aa5aaaaaaaaaaaaaaaaaaaaaaazzz'>"
            ]
          },
          "execution_count": 39,
          "metadata": {},
          "output_type": "execute_result"
        }
      ],
      "source": [
        "tf.strings.reduce_join([num_to_char(tf.argmax(x)) for x in yhat[0]])"
      ]
    },
    {
      "cell_type": "code",
      "execution_count": 40,
      "id": "7c37b9b9-5298-4038-9c33-5031d1b457f0",
      "metadata": {
        "colab": {
          "base_uri": "https://localhost:8080/"
        },
        "id": "7c37b9b9-5298-4038-9c33-5031d1b457f0",
        "outputId": "8d80fd15-47af-4fb8-ecf0-97c1fc873172",
        "tags": []
      },
      "outputs": [
        {
          "data": {
            "text/plain": [
              "(None, 75, 46, 140, 1)"
            ]
          },
          "execution_count": 40,
          "metadata": {},
          "output_type": "execute_result"
        }
      ],
      "source": [
        "model.input_shape"
      ]
    },
    {
      "cell_type": "code",
      "execution_count": 41,
      "id": "98b316a4-5322-4782-8e36-4b3c1a696d85",
      "metadata": {
        "colab": {
          "base_uri": "https://localhost:8080/"
        },
        "id": "98b316a4-5322-4782-8e36-4b3c1a696d85",
        "outputId": "b17dbac5-0a5c-4fb4-e573-a4aeb005d7b3",
        "tags": []
      },
      "outputs": [
        {
          "data": {
            "text/plain": [
              "(None, 75, 41)"
            ]
          },
          "execution_count": 41,
          "metadata": {},
          "output_type": "execute_result"
        }
      ],
      "source": [
        "model.output_shape"
      ]
    },
    {
      "cell_type": "markdown",
      "id": "2ec02176-5c26-46c3-aff7-8352e6563c7d",
      "metadata": {
        "id": "2ec02176-5c26-46c3-aff7-8352e6563c7d",
        "tags": []
      },
      "source": [
        "## Setup Training Options and Train"
      ]
    },
    {
      "cell_type": "code",
      "execution_count": 42,
      "id": "ab015fd0-7fb4-4d5d-9fa2-30a05dbd515a",
      "metadata": {
        "id": "ab015fd0-7fb4-4d5d-9fa2-30a05dbd515a",
        "tags": []
      },
      "outputs": [],
      "source": [
        "def scheduler(epoch, lr):\n",
        "    if epoch < 30:\n",
        "        return lr\n",
        "    else:\n",
        "        return lr * tf.math.exp(-0.1)"
      ]
    },
    {
      "cell_type": "code",
      "execution_count": 43,
      "id": "c564d5c9-db54-4e88-b311-9aeab7fb3e69",
      "metadata": {
        "id": "c564d5c9-db54-4e88-b311-9aeab7fb3e69",
        "tags": []
      },
      "outputs": [],
      "source": [
        "def CTCLoss(y_true, y_pred):\n",
        "    batch_len = tf.cast(tf.shape(y_true)[0], dtype=\"int64\")\n",
        "    input_length = tf.cast(tf.shape(y_pred)[1], dtype=\"int64\")\n",
        "    label_length = tf.cast(tf.shape(y_true)[1], dtype=\"int64\")\n",
        "\n",
        "    input_length = input_length * tf.ones(shape=(batch_len, 1), dtype=\"int64\")\n",
        "    label_length = label_length * tf.ones(shape=(batch_len, 1), dtype=\"int64\")\n",
        "\n",
        "    loss = tf.keras.backend.ctc_batch_cost(y_true, y_pred, input_length, label_length)\n",
        "    return loss"
      ]
    },
    {
      "cell_type": "code",
      "execution_count": 44,
      "id": "a26dc3fc-a19c-4378-bd8c-e2b597a1d15c",
      "metadata": {
        "id": "a26dc3fc-a19c-4378-bd8c-e2b597a1d15c",
        "tags": []
      },
      "outputs": [],
      "source": [
        "class ProduceExample(tf.keras.callbacks.Callback):\n",
        "    def __init__(self, dataset) -> None:\n",
        "        self.dataset = dataset.as_numpy_iterator()\n",
        "\n",
        "    def on_epoch_end(self, epoch, logs=None) -> None:\n",
        "        data = self.dataset.next()\n",
        "        yhat = self.model.predict(data[0])\n",
        "        decoded = tf.keras.backend.ctc_decode(yhat, [75,75], greedy=False)[0][0].numpy()\n",
        "        for x in range(len(yhat)):\n",
        "            print('Original:', tf.strings.reduce_join(num_to_char(data[1][x])).numpy().decode('utf-8'))\n",
        "            print('Prediction:', tf.strings.reduce_join(num_to_char(decoded[x])).numpy().decode('utf-8'))\n",
        "            print('~'*100)"
      ]
    },
    {
      "cell_type": "code",
      "execution_count": 45,
      "id": "04be90d8-2482-46f9-b513-d5f4f8001c7e",
      "metadata": {
        "id": "04be90d8-2482-46f9-b513-d5f4f8001c7e",
        "tags": []
      },
      "outputs": [],
      "source": [
        "model.compile(optimizer=Adam(learning_rate=0.0001), loss=CTCLoss)"
      ]
    },
    {
      "cell_type": "code",
      "execution_count": 46,
      "id": "eab49367-3f1e-4464-ae76-dbd07549d97e",
      "metadata": {
        "id": "eab49367-3f1e-4464-ae76-dbd07549d97e",
        "tags": []
      },
      "outputs": [],
      "source": [
        "import os\n",
        "from keras.callbacks import ModelCheckpoint\n",
        "\n",
        "# Ensure the directory exists\n",
        "os.makedirs('models', exist_ok=True)\n",
        "\n",
        "# Set up the checkpoint callback\n",
        "checkpoint_callback = ModelCheckpoint(\n",
        "    filepath=os.path.join('models', 'checkpoint.weights.h5'),\n",
        "    monitor='val_loss',               # Monitor validation loss\n",
        "    save_best_only=True,             # Save only the best model\n",
        "    save_weights_only=True,          # Only save weights\n",
        "    verbose=1                         # Print status messages\n",
        ")"
      ]
    },
    {
      "cell_type": "code",
      "execution_count": 47,
      "id": "e085a632-d464-46ef-8777-959cad4adb2c",
      "metadata": {
        "id": "e085a632-d464-46ef-8777-959cad4adb2c",
        "tags": []
      },
      "outputs": [],
      "source": [
        "schedule_callback = LearningRateScheduler(scheduler)"
      ]
    },
    {
      "cell_type": "code",
      "execution_count": 48,
      "id": "48eca991-90ab-4592-8a79-b50e9ca015b6",
      "metadata": {
        "id": "48eca991-90ab-4592-8a79-b50e9ca015b6",
        "tags": []
      },
      "outputs": [],
      "source": [
        "example_callback = ProduceExample(test)"
      ]
    },
    {
      "cell_type": "code",
      "execution_count": null,
      "id": "8ffba483-aa61-4bbe-a15f-a73e1ddf097c",
      "metadata": {
        "id": "8ffba483-aa61-4bbe-a15f-a73e1ddf097c",
        "tags": []
      },
      "outputs": [],
      "source": [
        "#model.fit(train, validation_data=test, epochs=100, callbacks=[checkpoint_callback, schedule_callback, example_callback])"
      ]
    },
    {
      "cell_type": "markdown",
      "id": "fa8ee94b-89f7-4733-8a0c-a86f86ff590a",
      "metadata": {
        "id": "fa8ee94b-89f7-4733-8a0c-a86f86ff590a",
        "tags": []
      },
      "source": [
        "## Make a Prediction"
      ]
    },
    {
      "cell_type": "code",
      "execution_count": 49,
      "id": "lkBV06UmLh9J",
      "metadata": {
        "id": "lkBV06UmLh9J"
      },
      "outputs": [],
      "source": [
        "import gdown"
      ]
    },
    {
      "cell_type": "code",
      "execution_count": 50,
      "id": "01fa7204-ce0e-49a8-8dbd-14fe5dfead40",
      "metadata": {
        "colab": {
          "base_uri": "https://localhost:8080/"
        },
        "id": "01fa7204-ce0e-49a8-8dbd-14fe5dfead40",
        "outputId": "64814187-2670-44dc-95d4-d9a86e822554",
        "tags": []
      },
      "outputs": [
        {
          "name": "stderr",
          "output_type": "stream",
          "text": [
            "Downloading...\n",
            "From: https://drive.google.com/uc?id=1vWscXs4Vt0a_1IH1-ct2TCgXAZT-N3_Y\n",
            "To: /content/checkpoints.zip\n",
            "100%|██████████| 94.5M/94.5M [00:02<00:00, 34.8MB/s]\n"
          ]
        },
        {
          "data": {
            "text/plain": [
              "['models/checkpoint.index',\n",
              " 'models/__MACOSX/._checkpoint.index',\n",
              " 'models/checkpoint.data-00000-of-00001',\n",
              " 'models/__MACOSX/._checkpoint.data-00000-of-00001',\n",
              " 'models/checkpoint',\n",
              " 'models/__MACOSX/._checkpoint']"
            ]
          },
          "execution_count": 50,
          "metadata": {},
          "output_type": "execute_result"
        }
      ],
      "source": [
        "url = 'https://drive.google.com/uc?id=1vWscXs4Vt0a_1IH1-ct2TCgXAZT-N3_Y'\n",
        "output = 'checkpoints.zip'\n",
        "gdown.download(url, output, quiet=False)\n",
        "gdown.extractall('checkpoints.zip', 'models')"
      ]
    },
    {
      "cell_type": "code",
      "execution_count": 53,
      "id": "simQLLSfQI95",
      "metadata": {
        "colab": {
          "base_uri": "https://localhost:8080/"
        },
        "id": "simQLLSfQI95",
        "outputId": "d9a0f6c6-09d5-41c8-a6f5-96e2c9c44165"
      },
      "outputs": [
        {
          "name": "stderr",
          "output_type": "stream",
          "text": [
            "WARNING:tensorflow:Detecting that an object or model or tf.train.Checkpoint is being deleted with unrestored values. See the following logs for the specific values in question. To silence these warnings, use `status.expect_partial()`. See https://www.tensorflow.org/api_docs/python/tf/train/Checkpoint#restorefor details about the status object returned by the restore function.\n",
            "WARNING:tensorflow:Value in checkpoint could not be found in the restored object: (root).optimizer.beta_1\n",
            "WARNING:tensorflow:Value in checkpoint could not be found in the restored object: (root).optimizer.beta_2\n",
            "WARNING:tensorflow:Value in checkpoint could not be found in the restored object: (root).optimizer.decay\n",
            "WARNING:tensorflow:Value in checkpoint could not be found in the restored object: (root).optimizer.learning_rate\n",
            "WARNING:tensorflow:Value in checkpoint could not be found in the restored object: (root).optimizer.iter\n",
            "WARNING:tensorflow:Value in checkpoint could not be found in the restored object: (root).layer_with_weights-3.forward_layer.cell.kernel\n",
            "WARNING:tensorflow:Value in checkpoint could not be found in the restored object: (root).layer_with_weights-3.forward_layer.cell.recurrent_kernel\n",
            "WARNING:tensorflow:Value in checkpoint could not be found in the restored object: (root).layer_with_weights-3.forward_layer.cell.bias\n",
            "WARNING:tensorflow:Value in checkpoint could not be found in the restored object: (root).layer_with_weights-3.backward_layer.cell.kernel\n",
            "WARNING:tensorflow:Value in checkpoint could not be found in the restored object: (root).layer_with_weights-3.backward_layer.cell.recurrent_kernel\n",
            "WARNING:tensorflow:Value in checkpoint could not be found in the restored object: (root).layer_with_weights-3.backward_layer.cell.bias\n",
            "WARNING:tensorflow:Value in checkpoint could not be found in the restored object: (root).layer_with_weights-4.forward_layer.cell.kernel\n",
            "WARNING:tensorflow:Value in checkpoint could not be found in the restored object: (root).layer_with_weights-4.forward_layer.cell.recurrent_kernel\n",
            "WARNING:tensorflow:Value in checkpoint could not be found in the restored object: (root).layer_with_weights-4.forward_layer.cell.bias\n",
            "WARNING:tensorflow:Value in checkpoint could not be found in the restored object: (root).layer_with_weights-4.backward_layer.cell.kernel\n",
            "WARNING:tensorflow:Value in checkpoint could not be found in the restored object: (root).layer_with_weights-4.backward_layer.cell.recurrent_kernel\n",
            "WARNING:tensorflow:Value in checkpoint could not be found in the restored object: (root).layer_with_weights-4.backward_layer.cell.bias\n",
            "WARNING:tensorflow:Value in checkpoint could not be found in the restored object: (root).optimizer's state 'm' for (root).layer_with_weights-0.kernel\n",
            "WARNING:tensorflow:Value in checkpoint could not be found in the restored object: (root).optimizer's state 'm' for (root).layer_with_weights-0.bias\n",
            "WARNING:tensorflow:Value in checkpoint could not be found in the restored object: (root).optimizer's state 'm' for (root).layer_with_weights-1.kernel\n",
            "WARNING:tensorflow:Value in checkpoint could not be found in the restored object: (root).optimizer's state 'm' for (root).layer_with_weights-1.bias\n",
            "WARNING:tensorflow:Value in checkpoint could not be found in the restored object: (root).optimizer's state 'm' for (root).layer_with_weights-2.kernel\n",
            "WARNING:tensorflow:Value in checkpoint could not be found in the restored object: (root).optimizer's state 'm' for (root).layer_with_weights-2.bias\n",
            "WARNING:tensorflow:Value in checkpoint could not be found in the restored object: (root).optimizer's state 'm' for (root).layer_with_weights-5.kernel\n",
            "WARNING:tensorflow:Value in checkpoint could not be found in the restored object: (root).optimizer's state 'm' for (root).layer_with_weights-5.bias\n",
            "WARNING:tensorflow:Value in checkpoint could not be found in the restored object: (root).optimizer's state 'm' for (root).layer_with_weights-3.forward_layer.cell.kernel\n",
            "WARNING:tensorflow:Value in checkpoint could not be found in the restored object: (root).optimizer's state 'm' for (root).layer_with_weights-3.forward_layer.cell.recurrent_kernel\n",
            "WARNING:tensorflow:Value in checkpoint could not be found in the restored object: (root).optimizer's state 'm' for (root).layer_with_weights-3.forward_layer.cell.bias\n",
            "WARNING:tensorflow:Value in checkpoint could not be found in the restored object: (root).optimizer's state 'm' for (root).layer_with_weights-3.backward_layer.cell.kernel\n",
            "WARNING:tensorflow:Value in checkpoint could not be found in the restored object: (root).optimizer's state 'm' for (root).layer_with_weights-3.backward_layer.cell.recurrent_kernel\n",
            "WARNING:tensorflow:Value in checkpoint could not be found in the restored object: (root).optimizer's state 'm' for (root).layer_with_weights-3.backward_layer.cell.bias\n",
            "WARNING:tensorflow:Value in checkpoint could not be found in the restored object: (root).optimizer's state 'm' for (root).layer_with_weights-4.forward_layer.cell.kernel\n",
            "WARNING:tensorflow:Value in checkpoint could not be found in the restored object: (root).optimizer's state 'm' for (root).layer_with_weights-4.forward_layer.cell.recurrent_kernel\n",
            "WARNING:tensorflow:Value in checkpoint could not be found in the restored object: (root).optimizer's state 'm' for (root).layer_with_weights-4.forward_layer.cell.bias\n",
            "WARNING:tensorflow:Value in checkpoint could not be found in the restored object: (root).optimizer's state 'm' for (root).layer_with_weights-4.backward_layer.cell.kernel\n",
            "WARNING:tensorflow:Value in checkpoint could not be found in the restored object: (root).optimizer's state 'm' for (root).layer_with_weights-4.backward_layer.cell.recurrent_kernel\n",
            "WARNING:tensorflow:Value in checkpoint could not be found in the restored object: (root).optimizer's state 'm' for (root).layer_with_weights-4.backward_layer.cell.bias\n",
            "WARNING:tensorflow:Value in checkpoint could not be found in the restored object: (root).optimizer's state 'v' for (root).layer_with_weights-0.kernel\n",
            "WARNING:tensorflow:Value in checkpoint could not be found in the restored object: (root).optimizer's state 'v' for (root).layer_with_weights-0.bias\n",
            "WARNING:tensorflow:Value in checkpoint could not be found in the restored object: (root).optimizer's state 'v' for (root).layer_with_weights-1.kernel\n",
            "WARNING:tensorflow:Value in checkpoint could not be found in the restored object: (root).optimizer's state 'v' for (root).layer_with_weights-1.bias\n",
            "WARNING:tensorflow:Value in checkpoint could not be found in the restored object: (root).optimizer's state 'v' for (root).layer_with_weights-2.kernel\n",
            "WARNING:tensorflow:Value in checkpoint could not be found in the restored object: (root).optimizer's state 'v' for (root).layer_with_weights-2.bias\n",
            "WARNING:tensorflow:Value in checkpoint could not be found in the restored object: (root).optimizer's state 'v' for (root).layer_with_weights-5.kernel\n",
            "WARNING:tensorflow:Value in checkpoint could not be found in the restored object: (root).optimizer's state 'v' for (root).layer_with_weights-5.bias\n",
            "WARNING:tensorflow:Value in checkpoint could not be found in the restored object: (root).optimizer's state 'v' for (root).layer_with_weights-3.forward_layer.cell.kernel\n",
            "WARNING:tensorflow:Value in checkpoint could not be found in the restored object: (root).optimizer's state 'v' for (root).layer_with_weights-3.forward_layer.cell.recurrent_kernel\n",
            "WARNING:tensorflow:Value in checkpoint could not be found in the restored object: (root).optimizer's state 'v' for (root).layer_with_weights-3.forward_layer.cell.bias\n",
            "WARNING:tensorflow:Value in checkpoint could not be found in the restored object: (root).optimizer's state 'v' for (root).layer_with_weights-3.backward_layer.cell.kernel\n",
            "WARNING:tensorflow:Value in checkpoint could not be found in the restored object: (root).optimizer's state 'v' for (root).layer_with_weights-3.backward_layer.cell.recurrent_kernel\n",
            "WARNING:tensorflow:Value in checkpoint could not be found in the restored object: (root).optimizer's state 'v' for (root).layer_with_weights-3.backward_layer.cell.bias\n",
            "WARNING:tensorflow:Value in checkpoint could not be found in the restored object: (root).optimizer's state 'v' for (root).layer_with_weights-4.forward_layer.cell.kernel\n",
            "WARNING:tensorflow:Value in checkpoint could not be found in the restored object: (root).optimizer's state 'v' for (root).layer_with_weights-4.forward_layer.cell.recurrent_kernel\n",
            "WARNING:tensorflow:Value in checkpoint could not be found in the restored object: (root).optimizer's state 'v' for (root).layer_with_weights-4.forward_layer.cell.bias\n",
            "WARNING:tensorflow:Value in checkpoint could not be found in the restored object: (root).optimizer's state 'v' for (root).layer_with_weights-4.backward_layer.cell.kernel\n",
            "WARNING:tensorflow:Value in checkpoint could not be found in the restored object: (root).optimizer's state 'v' for (root).layer_with_weights-4.backward_layer.cell.recurrent_kernel\n",
            "WARNING:tensorflow:Value in checkpoint could not be found in the restored object: (root).optimizer's state 'v' for (root).layer_with_weights-4.backward_layer.cell.bias\n"
          ]
        }
      ],
      "source": [
        "from tensorflow.keras.optimizers import legacy\n",
        "optimizer = legacy.Adam()  # or legacy.SGD(), whatever you used\n",
        "model.compile(optimizer=optimizer, loss=CTCLoss)\n"
      ]
    },
    {
      "cell_type": "code",
      "execution_count": 54,
      "id": "-YhYIFIvIPzX",
      "metadata": {
        "colab": {
          "base_uri": "https://localhost:8080/"
        },
        "id": "-YhYIFIvIPzX",
        "outputId": "23d1c08b-3da6-421d-e211-0a26009a2fa8"
      },
      "outputs": [
        {
          "data": {
            "text/plain": [
              "<tensorflow.python.checkpoint.checkpoint.CheckpointLoadStatus at 0x7ea6405821d0>"
            ]
          },
          "execution_count": 54,
          "metadata": {},
          "output_type": "execute_result"
        }
      ],
      "source": [
        "model.load_weights('models/checkpoint')"
      ]
    },
    {
      "cell_type": "code",
      "execution_count": 55,
      "id": "7f8d689f-b7bb-443c-9b88-e40c1d800828",
      "metadata": {
        "id": "7f8d689f-b7bb-443c-9b88-e40c1d800828",
        "tags": []
      },
      "outputs": [],
      "source": [
        "test_data = test.as_numpy_iterator()"
      ]
    },
    {
      "cell_type": "code",
      "execution_count": 56,
      "id": "38546dc2-bee9-4837-864b-8a884df40ad7",
      "metadata": {
        "id": "38546dc2-bee9-4837-864b-8a884df40ad7",
        "tags": []
      },
      "outputs": [],
      "source": [
        "sample = test_data.next()"
      ]
    },
    {
      "cell_type": "code",
      "execution_count": 57,
      "id": "a43621f0-229d-4c0d-9554-9c3a3da9c61a",
      "metadata": {
        "colab": {
          "base_uri": "https://localhost:8080/"
        },
        "id": "a43621f0-229d-4c0d-9554-9c3a3da9c61a",
        "outputId": "ea937d9b-1f68-4ba8-cb88-2b66658388f3",
        "tags": []
      },
      "outputs": [
        {
          "name": "stdout",
          "output_type": "stream",
          "text": [
            "1/1 [==============================] - 10s 10s/step\n"
          ]
        }
      ],
      "source": [
        "yhat = model.predict(sample[0])"
      ]
    },
    {
      "cell_type": "code",
      "execution_count": 58,
      "id": "ea462999-f87e-4a7e-a057-5be7b6d8f7d5",
      "metadata": {
        "colab": {
          "base_uri": "https://localhost:8080/"
        },
        "id": "ea462999-f87e-4a7e-a057-5be7b6d8f7d5",
        "outputId": "777e971b-e661-44ac-fa3d-697ab3a0a89c",
        "tags": []
      },
      "outputs": [
        {
          "name": "stdout",
          "output_type": "stream",
          "text": [
            "~~~~~~~~~~~~~~~~~~~~~~~~~~~~~~~~~~~~~~~~~~~~~~~~~~~~~~~~~~~~~~~~~~~~~~~~~~~~~~~~~~~~~~~~~~~~~~~~~~~~ REAL TEXT\n"
          ]
        },
        {
          "data": {
            "text/plain": [
              "[<tf.Tensor: shape=(), dtype=string, numpy=b'lay red in y zero now'>,\n",
              " <tf.Tensor: shape=(), dtype=string, numpy=b'place red with d four now'>]"
            ]
          },
          "execution_count": 58,
          "metadata": {},
          "output_type": "execute_result"
        }
      ],
      "source": [
        "print('~'*100, 'REAL TEXT')\n",
        "[tf.strings.reduce_join([num_to_char(word) for word in sentence]) for sentence in sample[1]]"
      ]
    },
    {
      "cell_type": "code",
      "execution_count": 59,
      "id": "82bd4c10-dd6e-411e-834b-2a3b43fd12c5",
      "metadata": {
        "id": "82bd4c10-dd6e-411e-834b-2a3b43fd12c5",
        "tags": []
      },
      "outputs": [],
      "source": [
        "decoded = tf.keras.backend.ctc_decode(yhat, input_length=[75,75], greedy=True)[0][0].numpy()"
      ]
    },
    {
      "cell_type": "code",
      "execution_count": 60,
      "id": "5d68ac46-c90b-4eab-a709-f19aee569ff5",
      "metadata": {
        "colab": {
          "base_uri": "https://localhost:8080/"
        },
        "id": "5d68ac46-c90b-4eab-a709-f19aee569ff5",
        "outputId": "fda7489e-e572-4e48-f2d3-7026a6375e1b",
        "tags": []
      },
      "outputs": [
        {
          "name": "stdout",
          "output_type": "stream",
          "text": [
            "~~~~~~~~~~~~~~~~~~~~~~~~~~~~~~~~~~~~~~~~~~~~~~~~~~~~~~~~~~~~~~~~~~~~~~~~~~~~~~~~~~~~~~~~~~~~~~~~~~~~ PREDICTIONS\n"
          ]
        },
        {
          "data": {
            "text/plain": [
              "[<tf.Tensor: shape=(), dtype=string, numpy=b'lay red in y zero now'>,\n",
              " <tf.Tensor: shape=(), dtype=string, numpy=b'place red with d four now'>]"
            ]
          },
          "execution_count": 60,
          "metadata": {},
          "output_type": "execute_result"
        }
      ],
      "source": [
        "print('~'*100, 'PREDICTIONS')\n",
        "[tf.strings.reduce_join([num_to_char(word) for word in sentence]) for sentence in decoded]"
      ]
    },
    {
      "cell_type": "markdown",
      "id": "64622f98-e99b-4fed-a2cc-f0da82eb5431",
      "metadata": {
        "id": "64622f98-e99b-4fed-a2cc-f0da82eb5431"
      },
      "source": [
        "## Test on a Video"
      ]
    },
    {
      "cell_type": "code",
      "execution_count": 61,
      "id": "a8b0c4d0-2031-4331-b91d-d87b1ae6f6e2",
      "metadata": {
        "id": "a8b0c4d0-2031-4331-b91d-d87b1ae6f6e2"
      },
      "outputs": [],
      "source": [
        "sample = load_data(tf.convert_to_tensor('.\\\\data\\\\s1\\\\bras9a.mpg'))"
      ]
    },
    {
      "cell_type": "code",
      "execution_count": 62,
      "id": "0cca60e4-47a9-4683-8a75-48f4684f723d",
      "metadata": {
        "colab": {
          "base_uri": "https://localhost:8080/"
        },
        "id": "0cca60e4-47a9-4683-8a75-48f4684f723d",
        "outputId": "53493421-0033-4864-d77f-b0d3ec69504b"
      },
      "outputs": [
        {
          "name": "stdout",
          "output_type": "stream",
          "text": [
            "~~~~~~~~~~~~~~~~~~~~~~~~~~~~~~~~~~~~~~~~~~~~~~~~~~~~~~~~~~~~~~~~~~~~~~~~~~~~~~~~~~~~~~~~~~~~~~~~~~~~ REAL TEXT\n"
          ]
        },
        {
          "data": {
            "text/plain": [
              "[<tf.Tensor: shape=(), dtype=string, numpy=b'bin red at s nine again'>]"
            ]
          },
          "execution_count": 62,
          "metadata": {},
          "output_type": "execute_result"
        }
      ],
      "source": [
        "print('~'*100, 'REAL TEXT')\n",
        "[tf.strings.reduce_join([num_to_char(word) for word in sentence]) for sentence in [sample[1]]]"
      ]
    },
    {
      "cell_type": "code",
      "execution_count": 63,
      "id": "8cc5037c-1e32-435c-b0cc-01e1fb3b863c",
      "metadata": {
        "colab": {
          "base_uri": "https://localhost:8080/"
        },
        "id": "8cc5037c-1e32-435c-b0cc-01e1fb3b863c",
        "outputId": "a7806f2d-7c37-4f73-94a4-336ca53a0989"
      },
      "outputs": [
        {
          "name": "stdout",
          "output_type": "stream",
          "text": [
            "1/1 [==============================] - 3s 3s/step\n"
          ]
        }
      ],
      "source": [
        "yhat = model.predict(tf.expand_dims(sample[0], axis=0))"
      ]
    },
    {
      "cell_type": "code",
      "execution_count": 64,
      "id": "22c4f77d-715d-409f-bc5e-3ebe48704e8f",
      "metadata": {
        "id": "22c4f77d-715d-409f-bc5e-3ebe48704e8f"
      },
      "outputs": [],
      "source": [
        "decoded = tf.keras.backend.ctc_decode(yhat, input_length=[75], greedy=True)[0][0].numpy()"
      ]
    },
    {
      "cell_type": "code",
      "execution_count": 65,
      "id": "e4d12ecc-b634-499e-a4bc-db9f010835fb",
      "metadata": {
        "colab": {
          "base_uri": "https://localhost:8080/"
        },
        "id": "e4d12ecc-b634-499e-a4bc-db9f010835fb",
        "outputId": "7606a843-7ba8-4261-fbdd-afff98ad7329"
      },
      "outputs": [
        {
          "name": "stdout",
          "output_type": "stream",
          "text": [
            "~~~~~~~~~~~~~~~~~~~~~~~~~~~~~~~~~~~~~~~~~~~~~~~~~~~~~~~~~~~~~~~~~~~~~~~~~~~~~~~~~~~~~~~~~~~~~~~~~~~~ PREDICTIONS\n"
          ]
        },
        {
          "data": {
            "text/plain": [
              "[<tf.Tensor: shape=(), dtype=string, numpy=b'bin red at s nine again'>]"
            ]
          },
          "execution_count": 65,
          "metadata": {},
          "output_type": "execute_result"
        }
      ],
      "source": [
        "print('~'*100, 'PREDICTIONS')\n",
        "[tf.strings.reduce_join([num_to_char(word) for word in sentence]) for sentence in decoded]"
      ]
    }
  ],
  "metadata": {
    "accelerator": "GPU",
    "colab": {
      "gpuType": "T4",
      "provenance": []
    },
    "kernelspec": {
      "display_name": "lip",
      "language": "python",
      "name": "python3"
    },
    "language_info": {
      "codemirror_mode": {
        "name": "ipython",
        "version": 3
      },
      "file_extension": ".py",
      "mimetype": "text/x-python",
      "name": "python",
      "nbconvert_exporter": "python",
      "pygments_lexer": "ipython3",
      "version": "3.11.9"
    }
  },
  "nbformat": 4,
  "nbformat_minor": 5
}
